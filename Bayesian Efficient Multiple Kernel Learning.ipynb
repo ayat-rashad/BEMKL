{
 "cells": [
  {
   "cell_type": "code",
   "execution_count": 7,
   "metadata": {},
   "outputs": [],
   "source": [
    "import numpy as np\n",
    "import tensorflow as tf\n",
    "\n",
    "# source: http://edwardlib.org \n",
    "# PROBLEM: TF 1.7 not supported --> modified ~/anaconda3/lib/python3.6/site-packages/edward/util/random_variables.py\n",
    "import edward as ed              \n",
    "\n",
    "from edward.models import Gamma, Normal\n",
    "\n",
    "#https://github.com/tensorflow/probability/blob/master/tensorflow_probability/python/edward2/Upgrading_From_Edward_To_Edward2.md\n",
    "# from tensorflow_probability import edward2 as ed2              "
   ]
  },
  {
   "cell_type": "code",
   "execution_count": null,
   "metadata": {},
   "outputs": [],
   "source": []
  }
 ],
 "metadata": {
  "kernelspec": {
   "display_name": "Python 3",
   "language": "python",
   "name": "python3"
  },
  "language_info": {
   "codemirror_mode": {
    "name": "ipython",
    "version": 3
   },
   "file_extension": ".py",
   "mimetype": "text/x-python",
   "name": "python",
   "nbconvert_exporter": "python",
   "pygments_lexer": "ipython3",
   "version": "3.6.4"
  }
 },
 "nbformat": 4,
 "nbformat_minor": 2
}

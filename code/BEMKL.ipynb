{
 "cells": [
  {
   "cell_type": "code",
   "execution_count": 1,
   "metadata": {},
   "outputs": [],
   "source": [
    "import pandas as pd\n",
    "\n",
    "import scipy as sc\n",
    "from scipy.io import loadmat\n",
    "\n",
    "import numpy as np\n",
    "\n",
    "from sklearn.metrics.pairwise import rbf_kernel\n",
    "from sklearn.metrics.pairwise import polynomial_kernel"
   ]
  },
  {
   "cell_type": "markdown",
   "metadata": {},
   "source": [
    "# Read Data"
   ]
  },
  {
   "cell_type": "code",
   "execution_count": 5,
   "metadata": {},
   "outputs": [],
   "source": [
    "# splits\n",
    "# images\n",
    "# distances matrix\n",
    "DATA_DIR = \"../data\"\n",
    "\n",
    "# DATASET1: 17 Category Flowers\n",
    "# 'val1', 'val2', 'val3', 'trn1', 'trn2', 'trn3', 'tst3', 'tst2', 'tst1'\n",
    "'''splits = loadmat(\"%s/cat_flower/datasplits.mat\" %DATA_DIR)\n",
    "\n",
    "# 'D_siftbdy', 'D_siftint', 'D_hsv', 'D_hog',\n",
    "distances = loadmat(\"%s/cat_flower/distancematrices17itfeat08.mat\" %DATA_DIR)\n",
    "\n",
    "imlist = loadmat(\"%s/cat_flower/trimaps/imlist.mat\" %DATA_DIR)\n",
    "'''\n",
    "\n",
    "# DATASET2: 102 Category Flowers\n",
    "# 'val1', 'val2', 'val3', 'trn1', 'trn2', 'trn3', 'tst3', 'tst2', 'tst1'\n",
    "ds2_splits = loadmat(\"%s/102_cat_flower/setid.mat\" %DATA_DIR)\n",
    "\n",
    "# 'D_siftbdy', 'D_siftint', 'D_hsv', 'D_hog',\n",
    "ds2_distances = loadmat(\"%s/102_cat_flower/distancematrices102.mat\" %DATA_DIR)\n",
    "\n",
    "ds2_labels = loadmat(\"%s/102_cat_flower/imagelabels.mat\" %DATA_DIR)"
   ]
  },
  {
   "cell_type": "code",
   "execution_count": null,
   "metadata": {},
   "outputs": [],
   "source": []
  },
  {
   "cell_type": "markdown",
   "metadata": {},
   "source": [
    "# Prepare"
   ]
  },
  {
   "cell_type": "code",
   "execution_count": null,
   "metadata": {},
   "outputs": [],
   "source": [
    "KERNELS = {\n",
    "    'gaussian': get_gaussian_kernel,\n",
    "    'poly': get_ploynomial_kernel,\n",
    "    'dist': get_distances_to_kernel\n",
    "}\n",
    "\n",
    "def get_gaussian_kernel(X, width=.2):\n",
    "    return rbf_kernel(X, gamma=1.0/width)\n",
    "\n",
    "def get_ploynomial_kernel(X, deg=2):\n",
    "    return polynomial_kernel(X, degree=deg)\n",
    "\n",
    "def get_distances_to_kernel(X):\n",
    "    return (-X/X.mean())\n",
    "\n",
    "def get_kernels(X, poly=False, gauss=False, distk=False):\n",
    "    kernels = []\n",
    "    \n",
    "    if poly:\n",
    "        degrees = [1,2,3]\n",
    "        \n",
    "        for deg in degrees:\n",
    "            kernels.append(get_ploynomial_kernel(X, deg=deg))\n",
    "            \n",
    "            \n",
    "    if gauss:\n",
    "        widths = map(lambda x: 2**x, np.arange(-3,6))\n",
    "        \n",
    "        for w in widths:\n",
    "            kernels.append(get_gaussian_kernel(X, width=w))\n",
    "            \n",
    "            \n",
    "    if distk:\n",
    "        kernels.append(get_distances_to_kernel(X))\n",
    "        \n",
    "    return kernels\n",
    "    \n",
    "    "
   ]
  },
  {
   "cell_type": "markdown",
   "metadata": {},
   "source": [
    "# BEMKL"
   ]
  },
  {
   "cell_type": "code",
   "execution_count": 4,
   "metadata": {},
   "outputs": [
    {
     "data": {
      "text/plain": [
       "'1.1.0'"
      ]
     },
     "execution_count": 4,
     "metadata": {},
     "output_type": "execute_result"
    }
   ],
   "source": [
    "log = np.log\n",
    "# Hyper Parameters\n",
    "sparse = False\n",
    "\n",
    "(alpha_lambda = beta_lambda = alpha_gamma \n",
    " = beta_gamma = alpha_omega = beta_omega = 1.0)\n",
    "\n",
    "if sparse:\n",
    "    alpha_omega, beta_omega = 10.0**-10, 10.0**10\n",
    "    \n",
    "# E(log(p(lambda)))\n",
    "E_lp_lambda = ((alpha_lambda - 1) * E_log_lambda - 1.0/beta_lambda * E_lambda - log_gamma_alph_lambda\n",
    "        - alpha_lambda * log(beta_lambda)).sum()\n",
    "\n",
    "# E(log(p(a|lambda)))\n",
    "E_lp_a_lambda = ( - 0.05 * (np.diagonal(E_lambda) * Cov_a).diag.sum() - 0.5 * N *log(2.0*np.pi) \n",
    "                 + 0.05 * log(np.prod(E_lambda)))\n",
    "\n",
    "# E(log(p(G|a,K)))\n",
    "E_lp_G = ( )\n",
    "\n",
    "# E(log(p(gamma)))\n",
    "E_lp_gamma = ((alpha_gamma - 1) * E_log_gamma - E_gamma/beta_gamma - log_gamma_alph_gamma \n",
    "              - alpha_gamma * log(beta_gamma))\n",
    "\n",
    "# E(log(p(b|gamma)))\n",
    "E_lp_b = (- 0.5 * E_gamma * E_b2 - 0.5 *log(2.0*np.pi) + 0.5 * log(E_gamma))\n",
    "\n",
    "# E(log(p(omega)))\n",
    "E_lp_omega = ((alpha_omega - 1) * E_log_omega - E_omega/beta_omega - log_gamma_alph_omega \n",
    "              - alpha_omega * log(beta_omega) ).sum()\n",
    "\n",
    "# E(log(p(e|omega)))\n",
    "E_lp_e = ( -0.5 * (np.diagonal(E_omega) * Cov_e).diag.sum() - 0.5 * P * log(2.0*np.pi)\n",
    "         + 0.05 * log(np.prod(E_omega)))\n",
    "\n",
    "# E(log(p(f|e,b,G)))\n",
    "E_lp_f = (-0.5 * E_f2 + (dot(E_e,E_G) + b) * E_f - 0.5 * ([dot(Cov_e,Cov_g).diag.sum() for i in range(N)]\n",
    "        + 2 * dot(E_b_e, E_G) + E_b2) - 0.5* log(2.0*np.pi)).sum()\n",
    "\n",
    "# E(log(q(lambda)))\n",
    "E_lq_lambda = \n",
    "                 \n",
    "    \n",
    "ELBO = ()\n",
    "\n",
    "    \n",
    "    "
   ]
  },
  {
   "cell_type": "code",
   "execution_count": 5,
   "metadata": {},
   "outputs": [],
   "source": []
  },
  {
   "cell_type": "code",
   "execution_count": null,
   "metadata": {},
   "outputs": [],
   "source": []
  }
 ],
 "metadata": {
  "kernelspec": {
   "display_name": "Python 2",
   "language": "python",
   "name": "python2"
  },
  "language_info": {
   "codemirror_mode": {
    "name": "ipython",
    "version": 2
   },
   "file_extension": ".py",
   "mimetype": "text/x-python",
   "name": "python",
   "nbconvert_exporter": "python",
   "pygments_lexer": "ipython2",
   "version": "2.7.12"
  }
 },
 "nbformat": 4,
 "nbformat_minor": 2
}

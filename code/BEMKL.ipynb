{
 "cells": [
  {
   "cell_type": "code",
   "execution_count": 1,
   "metadata": {},
   "outputs": [],
   "source": [
    "import pandas as pd\n",
    "\n",
    "import scipy as sc\n",
    "from scipy.io import loadmat\n",
    "\n",
    "import numpy as np\n",
    "\n",
    "from sklearn.metrics.pairwise import rbf_kernel\n",
    "from sklearn.metrics.pairwise import polynomial_kernel\n",
    "\n",
    "np.random.seed(123)"
   ]
  },
  {
   "cell_type": "markdown",
   "metadata": {},
   "source": [
    "# Read Data"
   ]
  },
  {
   "cell_type": "code",
   "execution_count": 5,
   "metadata": {},
   "outputs": [],
   "source": [
    "# splits\n",
    "# images\n",
    "# distances matrix\n",
    "DATA_DIR = \"../data\"\n",
    "\n",
    "# DATASET1: 17 Category Flowers\n",
    "# 'val1', 'val2', 'val3', 'trn1', 'trn2', 'trn3', 'tst3', 'tst2', 'tst1'\n",
    "'''splits = loadmat(\"%s/cat_flower/datasplits.mat\" %DATA_DIR)\n",
    "\n",
    "# 'D_siftbdy', 'D_siftint', 'D_hsv', 'D_hog',\n",
    "distances = loadmat(\"%s/cat_flower/distancematrices17itfeat08.mat\" %DATA_DIR)\n",
    "\n",
    "imlist = loadmat(\"%s/cat_flower/trimaps/imlist.mat\" %DATA_DIR)\n",
    "'''\n",
    "\n",
    "# DATASET2: 102 Category Flowers\n",
    "# 'val1', 'val2', 'val3', 'trn1', 'trn2', 'trn3', 'tst3', 'tst2', 'tst1'\n",
    "ds2_splits = loadmat(\"%s/102_cat_flower/setid.mat\" %DATA_DIR)\n",
    "\n",
    "# 'D_siftbdy', 'D_siftint', 'D_hsv', 'D_hog',\n",
    "ds2_distances = loadmat(\"%s/102_cat_flower/distancematrices102.mat\" %DATA_DIR)\n",
    "\n",
    "ds2_labels = loadmat(\"%s/102_cat_flower/imagelabels.mat\" %DATA_DIR)"
   ]
  },
  {
   "cell_type": "markdown",
   "metadata": {},
   "source": []
  },
  {
   "cell_type": "markdown",
   "metadata": {},
   "source": [
    "# Prepare"
   ]
  },
  {
   "cell_type": "code",
   "execution_count": 2,
   "metadata": {},
   "outputs": [],
   "source": [
    "'''KERNELS = {\n",
    "    'gaussian': get_gaussian_kernel,\n",
    "    'poly': get_ploynomial_kernel,\n",
    "    'dist': get_distances_to_kernel\n",
    "}'''\n",
    "\n",
    "def get_gaussian_kernel(X, width=.2):\n",
    "    return rbf_kernel(X, gamma=1.0/width)\n",
    "\n",
    "def get_ploynomial_kernel(X, deg=2):\n",
    "    return polynomial_kernel(X, degree=deg)\n",
    "\n",
    "def get_distances_to_kernel(X):\n",
    "    return (-X/X.mean())\n",
    "\n",
    "def get_kernels(X, poly=False, gauss=False, distk=False):\n",
    "    kernels = []\n",
    "    \n",
    "    if poly:\n",
    "        degrees = [1,2,3]\n",
    "        \n",
    "        for deg in degrees:\n",
    "            kernels.append(get_ploynomial_kernel(X, deg=deg))\n",
    "            \n",
    "            \n",
    "    if gauss:\n",
    "        widths = map(lambda x: 2**x, np.arange(-3,6))\n",
    "        \n",
    "        for w in widths:\n",
    "            kernels.append(get_gaussian_kernel(X, width=w))\n",
    "            \n",
    "            \n",
    "    if distk:\n",
    "        kernels.append(get_distances_to_kernel(X))\n",
    "        \n",
    "    return kernels\n",
    "    \n",
    "    "
   ]
  },
  {
   "cell_type": "code",
   "execution_count": 3,
   "metadata": {},
   "outputs": [],
   "source": [
    "# Helper Functions\n",
    "log = np.log\n",
    "gamma = sc.special.gamma\n",
    "digamma = sc.special.digamma\n",
    "det = np.linalg.det\n",
    "diag = np.diag\n",
    "outer = np.outer\n",
    "tr = np.trace\n",
    "dot =  np.dot\n",
    "concat = np.concatenate\n",
    "normal = np.random.normal\n",
    "arr = np.array\n",
    "cstack = np.column_stack\n",
    "sqrt = np.sqrt\n",
    "inv = np.linalg.inv\n",
    "norm = sc.stats.norm"
   ]
  },
  {
   "cell_type": "markdown",
   "metadata": {},
   "source": [
    "# Dummy"
   ]
  },
  {
   "cell_type": "code",
   "execution_count": 7,
   "metadata": {},
   "outputs": [
    {
     "name": "stdout",
     "output_type": "stream",
     "text": [
      "(200, 200)\n"
     ]
    }
   ],
   "source": [
    "#x1 = np.random.normal(0,1,100)\n",
    "x1 = np.random.multivariate_normal(mean=[0,0], cov=[[1,.5],[.5,1]], size=100)\n",
    "y1 = np.repeat(1,100)\n",
    "#x2 = np.random.normal(50,1,100)\n",
    "x2 = np.random.multivariate_normal(mean=[20,20], cov=[[1,.5],[.5,1]], size=100)\n",
    "y2 = np.repeat(-1,100)\n",
    "\n",
    "N = 200\n",
    "x = np.concatenate((x1,x2))\n",
    "y = np.concatenate((y1,y2))\n",
    "\n",
    "#K = arr([get_ploynomial_kernel(x.reshape((-1,1)), i+1) for i in range(3)])\n",
    "K = arr([get_ploynomial_kernel(x, i+1) for i in range(3)])\n",
    "print K[0].shape\n",
    "\n",
    "P = 3"
   ]
  },
  {
   "cell_type": "code",
   "execution_count": 8,
   "metadata": {},
   "outputs": [
    {
     "data": {
      "text/plain": [
       "(200, 2)"
      ]
     },
     "execution_count": 8,
     "metadata": {},
     "output_type": "execute_result"
    }
   ],
   "source": [
    "x.shape"
   ]
  },
  {
   "cell_type": "markdown",
   "metadata": {},
   "source": [
    "# BEMKL"
   ]
  },
  {
   "cell_type": "markdown",
   "metadata": {},
   "source": [
    "<font size=4> $\\lambda_i \\sim Gamma(\\alpha_\\lambda,\\beta_\\lambda)$ <br>\n",
    "    $E\\_a2_i = E(a_i^2) = Var(a_i) + \\mu_{a_i}^2$ <br>\n",
    "    $Corr\\_a = E(aa^T) = \\Sigma_a + \\mu_{a}\\mu_{a}^T$ <br>\n",
    "    $corr\\_g_i = E(g_ig_i^T) = \\Sigma_{g_i} + \\mu_{g_i}\\mu_{g_i}^T$ <br>\n",
    "    $corr_G$ <br>\n",
    "     <br>\n",
    "</font>"
   ]
  },
  {
   "cell_type": "code",
   "execution_count": 16,
   "metadata": {},
   "outputs": [
    {
     "name": "stdout",
     "output_type": "stream",
     "text": [
      "cov_a [[1. 0. 0. 0. 0.]\n",
      " [0. 1. 0. 0. 0.]\n",
      " [0. 0. 1. 0. 0.]\n",
      " [0. 0. 0. 1. 0.]\n",
      " [0. 0. 0. 0. 1.]]\n",
      "mu_g (3, 200) [[0. 0. 0. 0. 0.]\n",
      " [0. 0. 0. 0. 0.]\n",
      " [0. 0. 0. 0. 0.]]\n",
      "cov_g [[[1. 0. 0.]\n",
      "  [0. 1. 0.]\n",
      "  [0. 0. 1.]]\n",
      "\n",
      " [[1. 0. 0.]\n",
      "  [0. 1. 0.]\n",
      "  [0. 0. 1.]]\n",
      "\n",
      " [[1. 0. 0.]\n",
      "  [0. 1. 0.]\n",
      "  [0. 0. 1.]]\n",
      "\n",
      " [[1. 0. 0.]\n",
      "  [0. 1. 0.]\n",
      "  [0. 0. 1.]]\n",
      "\n",
      " [[1. 0. 0.]\n",
      "  [0. 1. 0.]\n",
      "  [0. 0. 1.]]]\n",
      "COV_b_e (4, 4)\n",
      "e (3,)\n",
      "mu_f (200,)\n"
     ]
    }
   ],
   "source": [
    "# Hyper Parameters (prior)\n",
    "sparse = False\n",
    "\n",
    "alpha_lambda, beta_lambda = 1.0,1.0\n",
    "alpha_gamma, beta_gamma = 1.0,1.0\n",
    "alpha_omega, beta_omega = 1.0,1.0\n",
    "\n",
    "if sparse:\n",
    "    alpha_omega, beta_omega = 10.0**-10, 10.0**10\n",
    "\n",
    "rv_lambda = np.random.gamma(alpha_lambda, beta_lambda, N) \n",
    "rv_a = np.array([np.random.normal(0, 1.0/rv_lambda[i], 1) for i in range(N)])\n",
    "\n",
    "rv_gamma = np.random.gamma(alpha_gamma, beta_gamma, 1) \n",
    "rv_b = np.random.normal(0, 1.0/rv_gamma, 1)\n",
    "\n",
    "rv_omega = np.random.gamma(alpha_omega, beta_omega, P) \n",
    "rv_e = np.array([np.random.normal(0, 1.0/rv_omega[i], 1) for i in range(P)])\n",
    "\n",
    "# The conditionals parameters\n",
    "p_alpha_lambda = np.repeat(alpha_lambda, N)\n",
    "p_beta_lambda = np.repeat(beta_lambda, N)\n",
    "p_alpha_gamma = alpha_gamma\n",
    "p_beta_gamma = beta_gamma\n",
    "p_alpha_omega = np.repeat(alpha_omega, P)\n",
    "p_beta_omega = np.repeat(beta_omega, P)\n",
    "\n",
    "mu_a = np.repeat(0, N)\n",
    "mu_b = 0\n",
    "mu_e = np.repeat(0, P)\n",
    "\n",
    "#cov_a = diag(1.0/rv_lambda)\n",
    "cov_a = diag(np.repeat((alpha_lambda/beta_lambda**2)**-1, N))\n",
    "print 'cov_a',cov_a[:5,:5]\n",
    "#var_b = rv_gamma**-1\n",
    "var_b = (alpha_gamma/beta_gamma**2)**-1\n",
    "#cov_e = np.diag(1.0 / rv_omega)\n",
    "cov_e = diag(np.repeat((alpha_omega/beta_omega**2)**-1, P))\n",
    "\n",
    "#mu_g = np.vstack([dot(a.T, K[i]) for i in range(P)])\n",
    "\n",
    "#mu_g = arr([dot(rv_a.T,K[j,...]) for j in range(P)]).squeeze()\n",
    "mu_g = arr([dot(mu_a.T,K[j,...]) for j in range(P)]).squeeze()\n",
    "#mu_g = np.zeros((P,N))\n",
    "print 'mu_g',mu_g.shape, mu_g[:,:5]\n",
    "\n",
    "#G = np.array([[np.random.normal(mu_g[i,j],1, 1)[0] for j in range(N)] for i in range(P)])\n",
    "#print 'G', G.shape\n",
    "'''cov_g = arr([(outer(G[:,i],G[:,i])- outer(mu_g[:,i], mu_g[:,i])) \n",
    "                  for i in range(N)])\n",
    "'''\n",
    "cov_g = np.zeros((N,P,P))\n",
    "cov_g[:,:,:] = np.eye(P)\n",
    "print 'cov_g',cov_g[:5,...]\n",
    "\n",
    "mu_b_e = np.concatenate(([mu_b],mu_e))\n",
    "#cov_b_e = np.vstack(([rv_b if i==0 else 0 for i in range(P+1)],\n",
    "#                np.hstack((np.zeros((P,1)),cov_e))))\n",
    "cov_b_e = np.zeros((P+1,P+1))\n",
    "cov_b_e[0,0] = var_b\n",
    "cov_b_e[1:,1:] = cov_e\n",
    "print 'COV_b_e', cov_b_e.shape\n",
    "\n",
    "omega = np.random.gamma(alpha_omega, 1.0/beta_omega, P)\n",
    "e = concat([normal(0,omega[i],1) for i in range(P)])\n",
    "print 'e', e.shape\n",
    "#mu_f = np.array([dot(e.T,G[:,i])+ rv_b for i in range(N)])\n",
    "#mu_f = dot(e.T,mu_g)+ mu_b \n",
    "mu_f = dot(mu_b_e[1:], mu_g) + mu_b\n",
    "print 'mu_f',mu_f.shape\n",
    "\n",
    "E_a2 = np.diag(cov_a) + mu_a**2 \n",
    "E_b2 = 1.0 / rv_gamma + mu_b**2\n",
    "E_e2 = np.diag(cov_e) + mu_e**2\n",
    "\n",
    "corr_a = cov_a + outer(mu_a, mu_a)\n",
    "corr_e = cov_b_e[1:,1:] + outer(mu_b_e[1:], mu_b_e[1:])\n",
    "corr_g = cov_g + arr([outer(mu_g[:,i], mu_g[:,i]) for i in range(N)])\n",
    "\n",
    "# inter-row covariance\n",
    "'''cov_G = diag(cstack([diag(cov_g[i,...]) for i in range(N)]).sum(axis=1))\n",
    "corr_G = cov_G + dot(mu_g,mu_g.T)'''\n",
    "corr_G = np.zeros(P)\n",
    "\n",
    "'''for i in range(P):\n",
    "    for j in range(P):\n",
    "        if i==j:\n",
    "            continue\n",
    "        corr_G[i,j] = dot(dot(K[i,...].T,corr_a),K[j,...])'''\n",
    "\n",
    "thresh = 1.0 * 10**-4\n",
    "ELBO_init = 0\n",
    "\n",
    "K2 = np.sum([dot(K[i,...], K[i,...].T) for i in range(P)], axis=0)"
   ]
  },
  {
   "cell_type": "markdown",
   "metadata": {},
   "source": [
    "### Tricks:\n",
    "- for inverting the matrix add $\\epsilon I$ to the matrix"
   ]
  },
  {
   "cell_type": "code",
   "execution_count": null,
   "metadata": {},
   "outputs": [],
   "source": [
    "it = 1\n",
    "\n",
    "while True: \n",
    "    # Update the parameters:\n",
    "    ########################\n",
    "    E_a2 = diag(cov_a) + mu_a**2\n",
    "    corr_a = cov_a + outer(mu_a, mu_a)\n",
    "    \n",
    "    p_alpha_lambda = np.repeat(alpha_lambda + 0.5, N)\n",
    "    p_beta_lambda = (beta_lambda**-1 + E_a2/2.0)**-1\n",
    "    E_lambda = p_alpha_lambda * p_beta_lambda\n",
    "    \n",
    "\n",
    "    #mu_a = dot(cov_a, np.sum([dot(K[i], mu_g[i,:]) for i in range(P)]))\n",
    "    print mu_g.shape\n",
    "    z = np.sum([dot(K[i,:,:], mu_g[i,:]) for i in range(P)], axis=0)\n",
    "    mu_a = dot(cov_a, z)\n",
    "    cov_a = inv(diag(E_lambda) + K2)\n",
    "    print 'cov_a', cov_a[:5,:5]\n",
    "    \n",
    "    print mu_b_e.shape, mu_e.shape\n",
    "    # G: PxN\n",
    "    # mu_g: PxN\n",
    "    #mu_g = cstack([dot(cov_g[i],(dot(K[:,i,:], mu_a) + mu_f[i]* mu_e + mu_b_e))\n",
    "    #            for i in range(N)])\n",
    "    z = dot(cov_b_e[0,1:],inv(cov_b_e[1:,1:]))\n",
    "    E_be = mu_b_e[0] * mu_b_e[1:] + dot(cov_b_e[1:,1:], z)\n",
    "    print 'E_be', E_be\n",
    "    #z = dot(K, mu_a)\n",
    "    #print 'Ka', z[:5,:5]\n",
    "    print 'cov_g', cov_g[:5,:5]\n",
    "    mu_g = cstack([dot(cov_g[i,:,:], (dot(K[:,i,:], mu_a) + mu_f[i]* mu_b_e[1:] + E_be)) for i in range(N)])\n",
    "    print 'mu_g',mu_g[:,:5]\n",
    "    #cov_g = (np.identity(P) + cov_e + np.outer(mu_e,mu_e))**-1\n",
    "    cov_g[:,:,:] = inv(np.eye(P) + corr_e)\n",
    "    print 'cov_g', cov_g[:5,...]\n",
    "    corr_g = cov_g + arr([outer(mu_g[:,i], mu_g[:,i]) for i in range(N)])\n",
    "    cov_G = diag(cstack([diag(cov_g[i,...]) for i in range(N)]).sum(axis=1))\n",
    "    corr_G = cov_G + dot(mu_g,mu_g.T)\n",
    "    \n",
    "    E_b2 = cov_b_e[0,0] + mu_b_e[0]**2\n",
    "    p_alpha_gamma = alpha_gamma + 0.5\n",
    "    p_beta_gamma = (beta_gamma**-1 + E_b2/2.0)**-1\n",
    "    \n",
    "    E_e2 = diag(cov_b_e[1:,1:]) + mu_b_e[1:]**2\n",
    "    corr_e = cov_b_e[1:,1:] + outer(mu_b_e[1:], mu_b_e[1:])\n",
    "    print 'corr_e', corr_e\n",
    "    \n",
    "    p_alpha_omega = np.repeat(alpha_omega + 0.5, P)\n",
    "    p_beta_omega = (beta_omega**-1 + E_e2/2.0)**-1\n",
    "    \n",
    "    E_gamma = p_alpha_gamma * p_beta_gamma\n",
    "    E_omega = p_alpha_omega * p_beta_omega\n",
    "    \n",
    "    print mu_f.shape\n",
    "    z = concat(([mu_f.sum()], dot(mu_g,mu_f).squeeze()))\n",
    "    #mu_b_e = dot(cov_b_e, [mu_f.sum() if i==0 else dot(mu_g,mu_f) for i in range(P+1)])\n",
    "    mu_b_e = dot(cov_b_e, z)\n",
    "    cov_b_e[0,0] = E_gamma + N\n",
    "    cov_b_e[1:,0] = mu_g.sum(axis=1)\n",
    "    cov_b_e[0,1:] = cov_b_e[1:,0]\n",
    "    #cov_b_e[1:,1:] = diag(E_omega) + dot(G,G.T)\n",
    "    cov_b_e[1:,1:] = diag(E_omega) + corr_G\n",
    "    cov_b_e = inv(cov_b_e)\n",
    "    \n",
    "    v = 1\n",
    "    LU = arr(map(lambda x: (-10**5, -v) if x==-1 else (v,10**5), y))\n",
    "    eg = dot(mu_b_e[1:].T, mu_g)\n",
    "    alpha_f = LU[:,0] - eg - mu_b_e[0]\n",
    "    beta_f = LU[:,1] - eg - mu_b_e[0]\n",
    "    pdf_alpha_f = norm.pdf(alpha_f)\n",
    "    pdf_beta_f = norm.pdf(beta_f)\n",
    "    Z = norm.cdf(beta_f) - norm.cdf(alpha_f)\n",
    "    mu_f = eg + mu_b_e[0] + (pdf_alpha_f - pdf_beta_f)/Z\n",
    "    var_f = 1. + (alpha_f * pdf_alpha_f - beta_f * pdf_beta_f)/Z - (pdf_alpha_f - pdf_beta_f)**2/Z**2 \n",
    "    E_f2 = var_f + mu_f**2\n",
    "    \n",
    "    # Calculate the ELBO\n",
    "    ###################\n",
    "    # E(log(p(lambda)))    \n",
    "    #E_log_lambda = np.array([log(np.random.gamma(p_alpha_lambda[i], p_beta_lambda[i], 100)).mean()\n",
    "    #                         for i in range(N)])\n",
    "    E_log_lambda = digamma(p_alpha_lambda) - log(p_beta_lambda)\n",
    "    E_lp_lambda = ((alpha_lambda - 1) * E_log_lambda - 1.0/beta_lambda * E_lambda - log(gamma(alpha_lambda))\n",
    "            - alpha_lambda * log(beta_lambda)).sum(axis=0)\n",
    "    print 'lp_lam', E_lp_lambda\n",
    "\n",
    "    # E(log(p(a|lambda)))\n",
    "    E_lp_a_lambda = ( - 0.05 * tr(dot(diag(E_lambda), cov_a)).sum() - 0.5 * N *log(2.0*np.pi) \n",
    "                     + 0.05 * log(np.prod(E_lambda)))\n",
    "    print 'lp_a_lam', E_lp_a_lambda\n",
    "\n",
    "    # E(log(p(G|a,K)))\n",
    "    #k_i = np.array([K[j][i,:] for j in range(P)])\n",
    "    '''E_lp_G = np.sum([-.5 * (diag(cov_g[i])+mu_g[:,i]**2).sum() \n",
    "                     + np.trace(dot(k_i.T, dot(mu_g[:,i],mu_a)))\n",
    "                     - 0.5 * np.trace( (k_i**2).sum() * (cov_a + outer(mu_a,mu_a) )) \n",
    "                     for i in range(N)] )'''\n",
    "    E_g2 = arr([(diag(cov_g[i,...]) + mu_g[:,i]**2).sum() for i in range(N)])\n",
    "    #print 'eg2',E_g2.shape\n",
    "    kga = arr([dot(K[:,:,i].T , outer(mu_g[:,i],mu_a)) for i in range(N)])\n",
    "    #print 'kga', kga[0,:5,:5]\n",
    "    \n",
    "    #print 'corra', corr_a.shape\n",
    "    kaa = arr([dot(K[:,:,i].T , dot(K[:,:,i],corr_a)) for i in range(N)])\n",
    "    #print 'kaa', kaa[0,:5,:5]\n",
    "\n",
    "    E_lp_G = np.sum([-.5 * E_g2[i] + tr(kga[i,...]) - 0.5 * tr(kaa[i,...]) \n",
    "                     - 0.5 * P *log(2.0*np.pi) for i in range(N)])\n",
    "    print 'lp_g', E_lp_G\n",
    "\n",
    "    # E(log(p(gamma)))\n",
    "    E_log_gamma = digamma(p_alpha_gamma) - log(p_beta_gamma)\n",
    "    E_lp_gamma = ((alpha_gamma - 1) * E_log_gamma - E_gamma/beta_gamma - log(gamma(alpha_gamma)) \n",
    "                  - alpha_gamma * log(beta_gamma))\n",
    "    print 'lp_gamma', E_lp_gamma\n",
    "\n",
    "    # E(log(p(b|gamma)))\n",
    "    E_lp_b = (- 0.5 * E_gamma * E_b2 - 0.5 *log(2.0*np.pi) + 0.5 * log(E_gamma))\n",
    "    print 'lp_b', E_lp_b\n",
    "\n",
    "    # E(log(p(omega)))\n",
    "    E_log_omega = digamma(p_alpha_omega) - log(p_beta_omega)\n",
    "    E_lp_omega = ((alpha_omega - 1) * E_log_omega - E_omega/beta_omega - log(gamma(alpha_omega))\n",
    "                  - alpha_omega * log(beta_omega) ).sum()\n",
    "    print 'lp_omega', E_lp_omega\n",
    "\n",
    "    # E(log(p(e|omega)))\n",
    "    E_lp_e = ( -0.5 * tr(dot(diag(E_omega), corr_e)) - 0.5 * P * log(2.0*np.pi)\n",
    "             + 0.05 * log(np.prod(E_omega)))\n",
    "    print 'lp_e', E_lp_e\n",
    "\n",
    "    # E(log(p(f|e,b,G)))\n",
    "    '''E_lp_f = (-0.5 * E_f2 + (dot(mu_e.T,mu_g) + b) * mu_f \n",
    "              - 0.5 * ([dot(Cov_e,Cov_g).diag.sum() for i in range(N)]\n",
    "            + 2 * dot(E_b_e, E_G) + E_b2) - 0.5* log(2.0*np.pi)).sum()'''\n",
    "    E_lp_f = (-0.5 * E_f2 + (dot(mu_b_e[1:].T,mu_g) + mu_b_e[0]) * mu_f \n",
    "              - 0.5 * arr([(tr(dot(corr_e,corr_g[i,...])) + 2 * dot(E_be.T, mu_g[:,i]) + E_b2) \n",
    "                           for i in range(N)]) \n",
    "              - 0.5* log(2.0*np.pi)).sum()\n",
    "    print 'lp_f', E_lp_f\n",
    "\n",
    "\n",
    "    # E(log(q(lambda)))\n",
    "    E_lq_lambda = (-p_alpha_lambda - log(p_beta_lambda) - log(gamma(p_alpha_lambda)) \n",
    "                   - (1-p_alpha_lambda) * digamma(p_alpha_lambda)).sum()\n",
    "    print 'lq_lam', E_lq_lambda\n",
    "\n",
    "    # E(log(q(a)))\n",
    "    det_cov_a = det(cov_a)\n",
    "    E_lq_a = -0.5 * N * (log(2.0*np.pi)+1) - 0.5 * log(det_cov_a) if det_cov_a > 0 else 10**-6\n",
    "    print 'lq_a', E_lq_a\n",
    "\n",
    "    # E(log(q(G)))\n",
    "    E_lq_G = (-0.5 * P *(log(2.0*np.pi)+1) - 0.5 * np.array([log(det(cov_g[i])) for i in range(N)])).sum()\n",
    "    print 'lq_g', E_lq_G\n",
    "\n",
    "    # E(log(q(gamma)))\n",
    "    E_lq_gamma = (-p_alpha_gamma - log(p_beta_gamma) - log(gamma(p_alpha_gamma)) \n",
    "                   - (1-p_alpha_gamma) * digamma(p_alpha_gamma))\n",
    "    print 'lq_gamma', E_lq_gamma\n",
    "\n",
    "    # E(log(q(omega)))\n",
    "    E_lq_omega = (-p_alpha_omega - log(p_beta_omega) - log(gamma(p_alpha_omega)) \n",
    "                   - (1-p_alpha_omega) * digamma(p_alpha_omega)).sum()\n",
    "    print 'lq_omega', E_lq_omega\n",
    "\n",
    "    # E(log(q(b,e)))\n",
    "    det_cov_b_e = det(cov_b_e)\n",
    "    E_lq_b_e = (-0.5 * (P+1) *(log(2.0*np.pi)+1) - 0.5 * log(det_cov_b_e) if det_cov_b_e > 0 else 10**-6 )\n",
    "    print 'lq_be', E_lq_b_e\n",
    "\n",
    "    # E(log(q(f)))\n",
    "    E_lq_f = (-0.5 * (log(2.0*np.pi) + var_f) - log(Z)).sum()\n",
    "    print 'lq_f', E_lq_f\n",
    "\n",
    "\n",
    "    ELBO = (E_lp_lambda + E_lp_a_lambda + E_lp_G + E_lp_gamma + E_lp_b + E_lp_omega + E_lp_e + E_lp_f\n",
    "            - E_lq_lambda - E_lq_a - E_lq_G - E_lq_gamma - E_lq_omega - E_lq_b_e - E_lq_f)\n",
    "    \n",
    "    print \"ITER %d: %f\" %(it, ELBO)\n",
    "    \n",
    "    if np.abs(ELBO - ELBO_init) < thresh:\n",
    "        print 'Convergence'\n",
    "        break\n",
    "        \n",
    "    ELBO_init = ELBO\n",
    "    \n",
    "    if it == 500:\n",
    "        break\n",
    "        \n",
    "    it += 1\n",
    "\n",
    "    \n",
    "    "
   ]
  },
  {
   "cell_type": "code",
   "execution_count": 18,
   "metadata": {},
   "outputs": [
    {
     "data": {
      "text/plain": [
       "array([[ 8.94765797e-01,  1.53997113e-02, -6.68839965e-02, ...,\n",
       "         3.51495315e-04,  8.35799495e-04, -3.77363252e-04],\n",
       "       [ 1.45898582e-02,  9.31361402e-01,  2.10781179e-03, ...,\n",
       "         4.77476035e-04,  3.41326664e-04, -5.52339457e-05],\n",
       "       [-7.18667743e-02,  1.53023603e-04,  8.16989770e-01, ...,\n",
       "         1.04663018e-03, -1.26781897e-04,  1.44923825e-04],\n",
       "       ...,\n",
       "       [ 2.16164005e-04, -1.74761597e-04, -1.48339394e-03, ...,\n",
       "        -7.01513476e-04, -2.52982518e-04,  2.17458091e-04],\n",
       "       [-2.49656075e-03,  1.58891341e-03, -7.58336915e-03, ...,\n",
       "         8.48814872e-04, -7.35621304e-04,  3.95359777e-05],\n",
       "       [-1.46755161e-03, -1.37242484e-04, -9.54142798e-03, ...,\n",
       "         4.80753069e-04, -5.41864664e-04,  4.72814889e-05]])"
      ]
     },
     "execution_count": 18,
     "metadata": {},
     "output_type": "execute_result"
    }
   ],
   "source": [
    "cov_a"
   ]
  },
  {
   "cell_type": "markdown",
   "metadata": {},
   "source": [
    "# Test"
   ]
  },
  {
   "cell_type": "code",
   "execution_count": 296,
   "metadata": {},
   "outputs": [],
   "source": [
    "rv_lambda = np.random.gamma(p_alpha_lambda, p_beta_lambda, N) \n",
    "rv_a = np.array([np.random.normal(0, sqrt(1.0/rv_lambda[i]), 1) for i in range(N)])\n",
    "\n",
    "rv_gamma = np.random.gamma(p_alpha_gamma, p_beta_gamma, 1) \n",
    "rv_b = np.random.normal(0, sqrt(1.0/rv_gamma), 1)\n",
    "\n",
    "rv_omega = np.random.gamma(p_alpha_omega, p_beta_omega, P) \n",
    "rv_e = np.array([np.random.normal(0, sqrt(1.0/rv_omega[i]), 1) for i in range(P)])\n"
   ]
  },
  {
   "cell_type": "code",
   "execution_count": 317,
   "metadata": {},
   "outputs": [
    {
     "name": "stdout",
     "output_type": "stream",
     "text": [
      "[-4.22340214e-01 -1.95669137e-01  3.74685363e-01 -3.50196399e-01\n",
      " -7.41773559e-01  8.91851018e-01 -3.55322345e-01 -6.09156799e-01\n",
      " -2.97242559e-02 -4.47785156e-01  8.75423590e-01 -2.06346488e-02\n",
      "  9.37365382e-01 -1.11086212e+00 -2.24219002e-01  3.33471602e-01\n",
      "  4.23004387e-01 -1.03389607e+00  1.85520931e-01  7.06933478e-01\n",
      "  7.16784085e-01 -9.70574741e-01 -3.47814262e-01  2.08926987e+00\n",
      "  5.74450901e-01  3.90188286e-01 -2.23533682e-02 -4.39450497e-01\n",
      " -8.18921128e-01 -1.77419513e-01 -6.57282717e-01  1.52352620e-01\n",
      " -8.23659850e-01  4.19176526e-01  6.30489162e-02  3.23075234e-01\n",
      "  1.19547154e-01 -1.52709683e+00 -4.70300710e-01  3.43879484e-01\n",
      " -1.56498285e-01 -8.64096399e-01  4.68170403e-03  7.63003964e-01\n",
      " -2.38618627e-01 -1.02836189e+00  1.87321706e-01  3.96037489e-01\n",
      " -1.59689681e+00  2.63777221e-01 -4.79365943e-01  3.41991851e-01\n",
      "  8.76715255e-02 -6.10827046e-02 -7.86012745e-01  2.23692252e-02\n",
      " -7.14414299e-02  7.54542691e-01  1.02805694e+00  1.42805659e-01\n",
      "  4.96165790e-01  4.51668839e-01 -2.81913982e-01  4.59293427e-01\n",
      " -1.39312353e-01 -1.88902844e-01 -1.93228585e-01  1.77602084e-01\n",
      " -2.41187526e-02 -1.60450900e-01  3.29921317e-01  9.82251582e-01\n",
      " -1.74107607e-01  7.22033859e-01  8.93535720e-02 -1.04664757e-01\n",
      " -6.97999136e-01  6.31412480e-01 -3.76310934e-01  1.05910907e+00\n",
      "  1.79162060e-01  4.06807915e-01  5.49367047e-01  4.50414346e-01\n",
      "  4.14672917e-01 -1.76334364e-01  1.05374332e+00 -7.40389442e-01\n",
      " -3.67778278e-01 -1.33556488e-01  3.42417345e-01 -3.59801808e-01\n",
      "  4.49291069e-01 -2.51687774e-01 -4.12118574e-01  1.08675205e-01\n",
      " -9.42435616e-01 -5.27930370e-01  2.91571729e-01 -2.12322269e-01\n",
      "  2.33875605e-04 -1.48736613e-04  6.49591020e-05  1.85057541e-04\n",
      "  1.26722722e-04  1.09822559e-04  2.75277644e-04  1.17089631e-04\n",
      "  4.13655825e-04  2.96715103e-05 -4.76540261e-05  3.42846591e-04\n",
      " -3.18678726e-05 -1.22642052e-04  1.52515187e-04  1.43168955e-04\n",
      "  3.01880513e-04 -1.04868507e-04 -7.02303448e-04 -1.98491994e-04\n",
      " -1.98018356e-04 -1.11057720e-04 -3.82973577e-05  1.23877552e-04\n",
      " -4.32625785e-05  1.95100204e-04  3.02187937e-04  5.64996691e-05\n",
      " -2.68477604e-04  8.73304000e-05 -1.76510583e-05 -1.47666686e-04\n",
      " -2.08898775e-04  1.37119459e-04 -2.43235287e-04 -3.37737774e-04\n",
      "  9.03546784e-05  3.10387026e-04 -4.52811714e-05 -1.97248036e-04\n",
      "  2.32310987e-05  1.56982755e-04 -3.82956094e-05 -2.82546292e-04\n",
      " -4.59986649e-04 -4.73109005e-05 -7.76168892e-05 -6.38424189e-05\n",
      "  3.20538509e-04 -2.19893709e-04  4.28973922e-04 -2.26355333e-04\n",
      " -1.47425827e-05  5.31713629e-05 -1.86518531e-04 -6.88364339e-05\n",
      " -1.08852222e-04 -2.10283698e-04  3.49881940e-04 -4.96736466e-05\n",
      " -2.85696639e-06  1.64125619e-04  3.70554121e-04  4.08859907e-05\n",
      " -2.04384473e-04  4.69091285e-04  1.72353973e-04  1.54096621e-04\n",
      " -2.78070413e-04  2.70729231e-04  5.74442527e-05 -2.44609100e-04\n",
      "  1.54771737e-05  2.73647419e-05 -7.58186725e-05  6.39730246e-05\n",
      "  2.93116030e-04 -3.16961987e-04  1.03515912e-05  3.27997517e-05\n",
      " -2.55057803e-04  6.84328576e-05 -3.03100566e-04  1.86036731e-04\n",
      "  3.57047040e-05 -2.53840997e-04  3.61583806e-04  9.74915929e-05\n",
      " -1.93900170e-04 -1.04794254e-04  5.99320987e-05 -1.55886813e-04\n",
      "  3.41910274e-05 -1.81921094e-04 -1.64867937e-04 -2.27029900e-04\n",
      " -6.56574176e-05 -8.00930588e-05  2.83999683e-04  1.65098682e-05]\n",
      "0.06202679585751352 [-4.73984451e-06  5.50846663e-09 -1.45958308e-12]\n"
     ]
    },
    {
     "name": "stderr",
     "output_type": "stream",
     "text": [
      "/usr/local/lib/python2.7/dist-packages/ipykernel_launcher.py:1: RuntimeWarning: covariance is not symmetric positive-semidefinite.\n",
      "  \"\"\"Entry point for launching an IPython kernel.\n"
     ]
    },
    {
     "data": {
      "text/plain": [
       "array([0.06202674, 0.06202673, 0.06202673, 0.06202673, 0.06202673,\n",
       "       0.06202674, 0.06202672, 0.06202674, 0.06202672, 0.06202674,\n",
       "       0.06202672, 0.06202674, 0.06202675, 0.06202673, 0.06202675,\n",
       "       0.06202673, 0.06202674, 0.06202672, 0.06202674, 0.06202673,\n",
       "       0.06202673, 0.06202675, 0.06202672, 0.06202673, 0.06202674,\n",
       "       0.06202674, 0.06202671, 0.06202674, 0.06202672, 0.06202673,\n",
       "       0.06202673, 0.0620267 , 0.06202673, 0.06202674, 0.06202673,\n",
       "       0.06202674, 0.06202676, 0.06202675, 0.06202673, 0.06202677,\n",
       "       0.06202673, 0.06202674, 0.06202671, 0.06202674, 0.06202673,\n",
       "       0.06202673, 0.06202674, 0.06202674, 0.06202672, 0.06202673,\n",
       "       0.06202673, 0.06202672, 0.06202674, 0.06202676, 0.06202674,\n",
       "       0.06202673, 0.06202671, 0.06202672, 0.06202674, 0.06202675,\n",
       "       0.06202673, 0.06202672, 0.06202672, 0.06202673, 0.06202671,\n",
       "       0.06202673, 0.06202674, 0.06202671, 0.06202673, 0.06202671,\n",
       "       0.06202672, 0.06202673, 0.06202675, 0.06202674, 0.06202672,\n",
       "       0.06202674, 0.06202673, 0.06202673, 0.06202673, 0.06202674,\n",
       "       0.06202674, 0.06202674, 0.06202674, 0.06202675, 0.06202674,\n",
       "       0.06202675, 0.06202674, 0.06202673, 0.06202675, 0.06202675,\n",
       "       0.0620267 , 0.06202673, 0.06202675, 0.06202675, 0.06202672,\n",
       "       0.06202674, 0.06202676, 0.06202674, 0.06202672, 0.06202672,\n",
       "       0.06202736, 0.06202735, 0.06202737, 0.06202736, 0.06202738,\n",
       "       0.06202736, 0.06202736, 0.06202735, 0.06202737, 0.06202735,\n",
       "       0.06202734, 0.06202735, 0.06202735, 0.06202734, 0.06202736,\n",
       "       0.06202735, 0.06202736, 0.06202734, 0.06202735, 0.06202736,\n",
       "       0.06202735, 0.06202735, 0.06202738, 0.06202736, 0.06202736,\n",
       "       0.06202736, 0.06202735, 0.06202736, 0.06202734, 0.06202737,\n",
       "       0.06202737, 0.06202735, 0.06202735, 0.06202734, 0.06202736,\n",
       "       0.06202735, 0.06202736, 0.06202733, 0.06202736, 0.06202735,\n",
       "       0.06202735, 0.06202733, 0.06202736, 0.06202734, 0.06202735,\n",
       "       0.06202736, 0.06202735, 0.06202738, 0.06202734, 0.06202735,\n",
       "       0.06202736, 0.06202734, 0.06202735, 0.06202735, 0.06202735,\n",
       "       0.06202736, 0.06202737, 0.06202736, 0.06202736, 0.06202737,\n",
       "       0.06202733, 0.06202735, 0.06202735, 0.06202733, 0.06202735,\n",
       "       0.06202732, 0.06202736, 0.06202733, 0.06202734, 0.06202736,\n",
       "       0.06202733, 0.06202738, 0.06202735, 0.06202735, 0.06202737,\n",
       "       0.06202735, 0.06202735, 0.06202735, 0.06202735, 0.06202736,\n",
       "       0.06202736, 0.06202734, 0.06202734, 0.06202734, 0.06202735,\n",
       "       0.06202736, 0.06202738, 0.06202736, 0.06202735, 0.06202734,\n",
       "       0.06202736, 0.06202735, 0.06202736, 0.06202735, 0.06202736,\n",
       "       0.06202736, 0.06202736, 0.06202735, 0.06202735, 0.06202736])"
      ]
     },
     "execution_count": 317,
     "metadata": {},
     "output_type": "execute_result"
    }
   ],
   "source": [
    "rv_a = np.random.multivariate_normal(mu_a, cov_a, 1).squeeze()\n",
    "print rv_a\n",
    "b_e = np.random.multivariate_normal(mu_b_e, cov_b_e, 1).squeeze()\n",
    "#print b_e\n",
    "rv_b, rv_e = b_e[0], b_e[1:]\n",
    "print rv_b,rv_e\n",
    "\n",
    "f = dot(rv_a.T, np.sum([rv_e[j] * K[j,...] for j in range(P)], axis=0))+ rv_b\n",
    "f"
   ]
  },
  {
   "cell_type": "code",
   "execution_count": 298,
   "metadata": {},
   "outputs": [
    {
     "data": {
      "text/plain": [
       "array([[ 1.12638506e+06, -4.61826208e+05, -4.05379471e+05,\n",
       "        -1.85042912e+04, -5.16563565e+05,  4.85996868e+05,\n",
       "        -5.28950160e+06,  1.46638528e+06, -9.73502635e+05,\n",
       "         1.50544557e+05, -3.80025758e+06,  2.95028822e+05,\n",
       "         3.21761949e+06,  6.66316482e+01,  9.22900338e+06,\n",
       "        -4.07924555e+03,  1.92081602e+05, -1.77277562e+06,\n",
       "         2.30534277e+05, -3.93058569e+05, -8.20253938e+05,\n",
       "         9.79469487e+06, -4.66761681e+06, -2.00434846e+03,\n",
       "         9.41173388e+05,  3.92750490e+04, -1.45768211e+07,\n",
       "         5.80965501e+05, -5.99532381e+06, -1.80874103e+05,\n",
       "        -2.68397692e+04, -5.82750348e+07, -1.48857268e+03,\n",
       "         7.71777273e+05, -8.02252465e+03,  2.06170536e+04,\n",
       "         2.84002645e+07,  3.59358281e+06,  1.20234811e+03,\n",
       "         4.23555136e+07, -5.58964447e+05,  3.76049011e+05,\n",
       "        -9.01022527e+06,  1.75189722e+05, -1.79702931e+03,\n",
       "         1.26727746e+03,  1.42493107e+05,  6.46433415e+04,\n",
       "        -2.78554696e+06, -1.14387765e+05,  4.59461238e+01,\n",
       "        -6.68434536e+06,  1.33110621e+06,  1.64723747e+07,\n",
       "         8.10765829e+04, -3.12310011e+05, -2.83890636e+07,\n",
       "        -8.07680435e+06,  1.10956102e+05,  5.04306176e+06,\n",
       "        -1.90534392e+04, -7.54530744e+06, -1.47176907e+06,\n",
       "        -4.01926322e+05, -1.67131417e+07, -5.84596681e+04,\n",
       "         1.81636360e+06, -1.09627441e+07, -3.75047633e+05,\n",
       "        -1.92362219e+07, -1.21862606e+06, -4.97216297e+03,\n",
       "         2.69924661e+06,  2.57584661e+05, -3.76146047e+06,\n",
       "         3.55241385e+03, -7.37476978e+04,  5.57485795e+00,\n",
       "        -1.37454335e+04,  8.86885124e+04,  1.94869685e+04,\n",
       "         1.66575903e+06,  6.11034992e+03,  1.19528540e+07,\n",
       "         3.75107479e+05,  8.04198001e+06,  9.70202969e+05,\n",
       "        -6.64051262e+05,  4.81631711e+06,  4.17513657e+06,\n",
       "        -5.54305233e+07, -3.52175898e+05,  7.48307860e+06,\n",
       "         2.96557140e+06, -7.13893679e+06,  1.62289213e+06,\n",
       "         1.27522459e+07,  5.88789693e+05, -7.37099453e+06,\n",
       "        -1.06397651e+06,  3.06339648e+11,  2.95247725e+11,\n",
       "         3.22607372e+11,  3.12407759e+11,  3.35714387e+11,\n",
       "         3.17782025e+11,  3.09119118e+11,  2.93494127e+11,\n",
       "         3.25005571e+11,  2.99196127e+11,  2.81069141e+11,\n",
       "         2.99962433e+11,  2.97452747e+11,  2.81626432e+11,\n",
       "         3.14194871e+11,  2.96585464e+11,  3.06250057e+11,\n",
       "         2.85306639e+11,  2.96153227e+11,  3.13203942e+11,\n",
       "         2.94691543e+11,  2.92591520e+11,  3.40017000e+11,\n",
       "         3.04805507e+11,  3.12445762e+11,  3.12684646e+11,\n",
       "         3.00840249e+11,  3.08662516e+11,  2.81980347e+11,\n",
       "         3.25835720e+11,  3.22028267e+11,  3.02522657e+11,\n",
       "         2.99211513e+11,  2.77406924e+11,  3.17944441e+11,\n",
       "         2.94545768e+11,  3.10169730e+11,  2.73991014e+11,\n",
       "         3.10568491e+11,  2.95964727e+11,  2.99311145e+11,\n",
       "         2.74378029e+11,  3.11445064e+11,  2.88243642e+11,\n",
       "         2.98254960e+11,  3.13756530e+11,  2.97563335e+11,\n",
       "         3.36161460e+11,  2.83262199e+11,  3.03432234e+11,\n",
       "         3.06573355e+11,  2.81188379e+11,  3.00668220e+11,\n",
       "         2.95615181e+11,  3.03166591e+11,  3.07309318e+11,\n",
       "         3.24887826e+11,  3.04296756e+11,  3.09018858e+11,\n",
       "         3.26807335e+11,  2.71568629e+11,  2.94436403e+11,\n",
       "         2.99782755e+11,  2.72051714e+11,  3.00475133e+11,\n",
       "         2.58796703e+11,  3.11933197e+11,  2.73355116e+11,\n",
       "         2.77209719e+11,  3.08602429e+11,  2.70169747e+11,\n",
       "         3.37472813e+11,  3.01194053e+11,  2.97359148e+11,\n",
       "         3.21204410e+11,  2.97669896e+11,  3.03434868e+11,\n",
       "         2.96309560e+11,  2.90185597e+11,  3.05805600e+11,\n",
       "         3.08614952e+11,  2.76835531e+11,  2.83567304e+11,\n",
       "         2.87423759e+11,  2.98567026e+11,  3.05341097e+11,\n",
       "         3.39465736e+11,  3.04058496e+11,  2.95980890e+11,\n",
       "         2.86455931e+11,  3.17122503e+11,  2.98884020e+11,\n",
       "         3.05270062e+11,  2.99085300e+11,  3.09083179e+11,\n",
       "         3.07767132e+11,  3.05853942e+11,  2.99166249e+11,\n",
       "         3.00776597e+11,  3.06008312e+11]])"
      ]
     },
     "execution_count": 298,
     "metadata": {},
     "output_type": "execute_result"
    }
   ],
   "source": [
    "f = dot(rv_a.T, np.sum([rv_e[j] * K[j,...] for j in range(P)], axis=0))+ rv_b\n",
    "f"
   ]
  },
  {
   "cell_type": "code",
   "execution_count": 305,
   "metadata": {},
   "outputs": [
    {
     "name": "stdout",
     "output_type": "stream",
     "text": [
      "Accuracy: 0.255\n",
      "F1 score: 0.4063745019920319\n"
     ]
    }
   ],
   "source": [
    "from sklearn.metrics import accuracy_score, f1_score\n",
    "\n",
    "pred = np.sign(f).squeeze()\n",
    "print 'Accuracy:', accuracy_score(y, pred)\n",
    "print 'F1 score:', f1_score(y, pred)"
   ]
  },
  {
   "cell_type": "code",
   "execution_count": 308,
   "metadata": {},
   "outputs": [
    {
     "data": {
      "text/plain": [
       "(array([ 1,  1,  1,  1,  1,  1,  1,  1,  1,  1,  1,  1,  1,  1,  1,  1,  1,\n",
       "         1,  1,  1,  1,  1,  1,  1,  1,  1,  1,  1,  1,  1,  1,  1,  1,  1,\n",
       "         1,  1,  1,  1,  1,  1,  1,  1,  1,  1,  1,  1,  1,  1,  1,  1,  1,\n",
       "         1,  1,  1,  1,  1,  1,  1,  1,  1,  1,  1,  1,  1,  1,  1,  1,  1,\n",
       "         1,  1,  1,  1,  1,  1,  1,  1,  1,  1,  1,  1,  1,  1,  1,  1,  1,\n",
       "         1,  1,  1,  1,  1,  1,  1,  1,  1,  1,  1,  1,  1,  1,  1, -1, -1,\n",
       "        -1, -1, -1, -1, -1, -1, -1, -1, -1, -1, -1, -1, -1, -1, -1, -1, -1,\n",
       "        -1, -1, -1, -1, -1, -1, -1, -1, -1, -1, -1, -1, -1, -1, -1, -1, -1,\n",
       "        -1, -1, -1, -1, -1, -1, -1, -1, -1, -1, -1, -1, -1, -1, -1, -1, -1,\n",
       "        -1, -1, -1, -1, -1, -1, -1, -1, -1, -1, -1, -1, -1, -1, -1, -1, -1,\n",
       "        -1, -1, -1, -1, -1, -1, -1, -1, -1, -1, -1, -1, -1, -1, -1, -1, -1,\n",
       "        -1, -1, -1, -1, -1, -1, -1, -1, -1, -1, -1, -1, -1]),\n",
       " array([[ 1.12638506e+06, -4.61826208e+05, -4.05379471e+05,\n",
       "         -1.85042912e+04, -5.16563565e+05,  4.85996868e+05,\n",
       "         -5.28950160e+06,  1.46638528e+06, -9.73502635e+05,\n",
       "          1.50544557e+05, -3.80025758e+06,  2.95028822e+05,\n",
       "          3.21761949e+06,  6.66316482e+01,  9.22900338e+06,\n",
       "         -4.07924555e+03,  1.92081602e+05, -1.77277562e+06,\n",
       "          2.30534277e+05, -3.93058569e+05, -8.20253938e+05,\n",
       "          9.79469487e+06, -4.66761681e+06, -2.00434846e+03,\n",
       "          9.41173388e+05,  3.92750490e+04, -1.45768211e+07,\n",
       "          5.80965501e+05, -5.99532381e+06, -1.80874103e+05,\n",
       "         -2.68397692e+04, -5.82750348e+07, -1.48857268e+03,\n",
       "          7.71777273e+05, -8.02252465e+03,  2.06170536e+04,\n",
       "          2.84002645e+07,  3.59358281e+06,  1.20234811e+03,\n",
       "          4.23555136e+07, -5.58964447e+05,  3.76049011e+05,\n",
       "         -9.01022527e+06,  1.75189722e+05, -1.79702931e+03,\n",
       "          1.26727746e+03,  1.42493107e+05,  6.46433415e+04,\n",
       "         -2.78554696e+06, -1.14387765e+05,  4.59461238e+01,\n",
       "         -6.68434536e+06,  1.33110621e+06,  1.64723747e+07,\n",
       "          8.10765829e+04, -3.12310011e+05, -2.83890636e+07,\n",
       "         -8.07680435e+06,  1.10956102e+05,  5.04306176e+06,\n",
       "         -1.90534392e+04, -7.54530744e+06, -1.47176907e+06,\n",
       "         -4.01926322e+05, -1.67131417e+07, -5.84596681e+04,\n",
       "          1.81636360e+06, -1.09627441e+07, -3.75047633e+05,\n",
       "         -1.92362219e+07, -1.21862606e+06, -4.97216297e+03,\n",
       "          2.69924661e+06,  2.57584661e+05, -3.76146047e+06,\n",
       "          3.55241385e+03, -7.37476978e+04,  5.57485795e+00,\n",
       "         -1.37454335e+04,  8.86885124e+04,  1.94869685e+04,\n",
       "          1.66575903e+06,  6.11034992e+03,  1.19528540e+07,\n",
       "          3.75107479e+05,  8.04198001e+06,  9.70202969e+05,\n",
       "         -6.64051262e+05,  4.81631711e+06,  4.17513657e+06,\n",
       "         -5.54305233e+07, -3.52175898e+05,  7.48307860e+06,\n",
       "          2.96557140e+06, -7.13893679e+06,  1.62289213e+06,\n",
       "          1.27522459e+07,  5.88789693e+05, -7.37099453e+06,\n",
       "         -1.06397651e+06,  3.06339648e+11,  2.95247725e+11,\n",
       "          3.22607372e+11,  3.12407759e+11,  3.35714387e+11,\n",
       "          3.17782025e+11,  3.09119118e+11,  2.93494127e+11,\n",
       "          3.25005571e+11,  2.99196127e+11,  2.81069141e+11,\n",
       "          2.99962433e+11,  2.97452747e+11,  2.81626432e+11,\n",
       "          3.14194871e+11,  2.96585464e+11,  3.06250057e+11,\n",
       "          2.85306639e+11,  2.96153227e+11,  3.13203942e+11,\n",
       "          2.94691543e+11,  2.92591520e+11,  3.40017000e+11,\n",
       "          3.04805507e+11,  3.12445762e+11,  3.12684646e+11,\n",
       "          3.00840249e+11,  3.08662516e+11,  2.81980347e+11,\n",
       "          3.25835720e+11,  3.22028267e+11,  3.02522657e+11,\n",
       "          2.99211513e+11,  2.77406924e+11,  3.17944441e+11,\n",
       "          2.94545768e+11,  3.10169730e+11,  2.73991014e+11,\n",
       "          3.10568491e+11,  2.95964727e+11,  2.99311145e+11,\n",
       "          2.74378029e+11,  3.11445064e+11,  2.88243642e+11,\n",
       "          2.98254960e+11,  3.13756530e+11,  2.97563335e+11,\n",
       "          3.36161460e+11,  2.83262199e+11,  3.03432234e+11,\n",
       "          3.06573355e+11,  2.81188379e+11,  3.00668220e+11,\n",
       "          2.95615181e+11,  3.03166591e+11,  3.07309318e+11,\n",
       "          3.24887826e+11,  3.04296756e+11,  3.09018858e+11,\n",
       "          3.26807335e+11,  2.71568629e+11,  2.94436403e+11,\n",
       "          2.99782755e+11,  2.72051714e+11,  3.00475133e+11,\n",
       "          2.58796703e+11,  3.11933197e+11,  2.73355116e+11,\n",
       "          2.77209719e+11,  3.08602429e+11,  2.70169747e+11,\n",
       "          3.37472813e+11,  3.01194053e+11,  2.97359148e+11,\n",
       "          3.21204410e+11,  2.97669896e+11,  3.03434868e+11,\n",
       "          2.96309560e+11,  2.90185597e+11,  3.05805600e+11,\n",
       "          3.08614952e+11,  2.76835531e+11,  2.83567304e+11,\n",
       "          2.87423759e+11,  2.98567026e+11,  3.05341097e+11,\n",
       "          3.39465736e+11,  3.04058496e+11,  2.95980890e+11,\n",
       "          2.86455931e+11,  3.17122503e+11,  2.98884020e+11,\n",
       "          3.05270062e+11,  2.99085300e+11,  3.09083179e+11,\n",
       "          3.07767132e+11,  3.05853942e+11,  2.99166249e+11,\n",
       "          3.00776597e+11,  3.06008312e+11]]))"
      ]
     },
     "execution_count": 308,
     "metadata": {},
     "output_type": "execute_result"
    }
   ],
   "source": [
    "y,f"
   ]
  },
  {
   "cell_type": "code",
   "execution_count": 295,
   "metadata": {},
   "outputs": [
    {
     "name": "stdout",
     "output_type": "stream",
     "text": [
      "\n"
     ]
    }
   ],
   "source": [
    "p_alpha_lambda ,  p_beta_lambda ,  p_alpha_gamma ,  p_beta_gamma , p_alpha_omega ,    p_beta_omega \n",
    "print"
   ]
  },
  {
   "cell_type": "code",
   "execution_count": 141,
   "metadata": {},
   "outputs": [
    {
     "name": "stdout",
     "output_type": "stream",
     "text": [
      "(3, 200)\n"
     ]
    },
    {
     "name": "stderr",
     "output_type": "stream",
     "text": [
      "/usr/local/lib/python2.7/dist-packages/scipy/stats/_distn_infrastructure.py:876: RuntimeWarning: invalid value encountered in greater_equal\n",
      "  return (self.a <= x) & (x <= self.b)\n",
      "/usr/local/lib/python2.7/dist-packages/scipy/stats/_distn_infrastructure.py:876: RuntimeWarning: invalid value encountered in less_equal\n",
      "  return (self.a <= x) & (x <= self.b)\n",
      "/usr/local/lib/python2.7/dist-packages/scipy/stats/_distn_infrastructure.py:879: RuntimeWarning: invalid value encountered in greater\n",
      "  return (self.a < x) & (x < self.b)\n",
      "/usr/local/lib/python2.7/dist-packages/scipy/stats/_distn_infrastructure.py:879: RuntimeWarning: invalid value encountered in less\n",
      "  return (self.a < x) & (x < self.b)\n",
      "/usr/local/lib/python2.7/dist-packages/scipy/stats/_distn_infrastructure.py:1738: RuntimeWarning: invalid value encountered in greater_equal\n",
      "  cond2 = (x >= self.b) & cond0\n"
     ]
    }
   ],
   "source": [
    "#n[K[j][i,:] for j in range(P)]\n",
    "print mu_g.shape\n",
    "#np.sum((dot(K[i,:,:], mu_g[i,:]) for i in range(P))).shape\n",
    "#K[:,0,:].shape\n",
    "#z.shape,z[:,1].shape,  (mu_f[1]* mu_e).shape,  E_be.shape\n",
    "#arr([(diag(cov_g[i,...]) + mu_g[:,i]).sum() for i in range(N)]).shape\n",
    "#dot(K[:,:,0].T , outer(mu_g[:,0],mu_a)).shape\n",
    "\n",
    "#[dot(K[:,:,i].T , outer(mu_g[:,i],mu_a)) for i in range(N)]\n",
    "#(cov_g + arr([outer(mu_g[:,i], mu_g[:,i]) for i in range(N)])).shape\n",
    "\n",
    "from scipy.stats import norm\n",
    "\n",
    "v = 1\n",
    "LU = arr(map(lambda x: (-np.inf, -v) if x==-1 else (v,np.inf), y))\n",
    "eg = dot(mu_e.T, mu_g)\n",
    "alpha_f = LU[:,0] - eg - mu_b\n",
    "beta_f = LU[:,1] - eg - mu_b\n",
    "pdf_alpha_f = norm.pdf(alpha_f)\n",
    "pdf_beta_f = norm.pdf(beta_f)\n",
    "Z = norm.cdf(beta_f) - norm.cdf(alpha_f)\n",
    "mu_f = eg + mu_b + (pdf_alpha_f - pdf_beta_f)/Z\n",
    "var_f = 1. + (alpha_f * pdf_alpha_f - beta_f * pdf_beta_f)/Z - (pdf_alpha_f - pdf_beta_f)**2/Z**2 "
   ]
  },
  {
   "cell_type": "code",
   "execution_count": 137,
   "metadata": {},
   "outputs": [
    {
     "data": {
      "text/plain": [
       "array([1.        , 0.97724987])"
      ]
     },
     "execution_count": 137,
     "metadata": {},
     "output_type": "execute_result"
    }
   ],
   "source": [
    "dot(mu_e.T, mu_g) - mu_b\n",
    "from scipy.stats import norm\n",
    "norm.cdf([np.inf,2])"
   ]
  },
  {
   "cell_type": "code",
   "execution_count": 147,
   "metadata": {},
   "outputs": [
    {
     "ename": "ValueError",
     "evalue": "all the input arrays must have same number of dimensions",
     "output_type": "error",
     "traceback": [
      "\u001b[0;31m---------------------------------------------------------------------------\u001b[0m",
      "\u001b[0;31mValueError\u001b[0m                                Traceback (most recent call last)",
      "\u001b[0;32m<ipython-input-147-5c1abc7f24e0>\u001b[0m in \u001b[0;36m<module>\u001b[0;34m()\u001b[0m\n\u001b[0;32m----> 1\u001b[0;31m \u001b[0mconcat\u001b[0m\u001b[0;34m(\u001b[0m\u001b[0;34m(\u001b[0m\u001b[0;34m[\u001b[0m\u001b[0mmu_f\u001b[0m\u001b[0;34m.\u001b[0m\u001b[0msum\u001b[0m\u001b[0;34m(\u001b[0m\u001b[0;34m)\u001b[0m\u001b[0;34m]\u001b[0m\u001b[0;34m,\u001b[0m \u001b[0mdot\u001b[0m\u001b[0;34m(\u001b[0m\u001b[0mmu_g\u001b[0m\u001b[0;34m,\u001b[0m\u001b[0mmu_f\u001b[0m\u001b[0;34m.\u001b[0m\u001b[0mreshape\u001b[0m\u001b[0;34m(\u001b[0m\u001b[0;34m(\u001b[0m\u001b[0;34m-\u001b[0m\u001b[0;36m1\u001b[0m\u001b[0;34m,\u001b[0m\u001b[0;36m1\u001b[0m\u001b[0;34m)\u001b[0m\u001b[0;34m)\u001b[0m\u001b[0;34m)\u001b[0m\u001b[0;34m)\u001b[0m\u001b[0;34m)\u001b[0m\u001b[0;34m\u001b[0m\u001b[0m\n\u001b[0m",
      "\u001b[0;31mValueError\u001b[0m: all the input arrays must have same number of dimensions"
     ]
    }
   ],
   "source": [
    "E_g2 = arr([(diag(cov_g[i,...]) + mu_g[:,i]**2).sum() for i in range(N)])\n",
    "#print 'eg2',E_g2.shape\n",
    "kga = arr([dot(K[:,:,i].T , outer(mu_g[:,i],mu_a)) for i in range(N)])\n",
    "#print 'kga', kga.shape\n",
    "\n",
    "#print 'corra', corr_a.shape\n",
    "kaa = arr([dot(K[:,:,i].T , dot(K[:,:,i],corr_a)) for i in range(N)])\n",
    "#print 'kaa', kaa.shape\n",
    "\n",
    "E_lp_G = np.sum([-.5 * E_g2[i] + tr(kga[i,...]) - 0.5 * tr(kaa[i,...]) \n",
    "                 - 0.5 * P *log(2.0*np.pi) for i in range(N)])\n",
    "print 'lp_g', E_lp_G"
   ]
  },
  {
   "cell_type": "code",
   "execution_count": 188,
   "metadata": {},
   "outputs": [
    {
     "name": "stdout",
     "output_type": "stream",
     "text": [
      "[nan nan nan nan nan nan nan nan nan nan nan nan nan nan nan nan nan nan\n",
      " nan nan nan nan nan nan nan nan nan nan nan nan nan nan nan nan nan nan\n",
      " nan nan nan nan nan nan nan nan nan nan nan nan nan nan nan nan nan nan\n",
      " nan nan nan nan nan nan nan nan nan nan nan nan nan nan nan nan nan nan\n",
      " nan nan nan nan nan nan nan nan nan nan nan nan nan nan nan nan nan nan\n",
      " nan nan nan nan nan nan nan nan nan nan nan nan nan nan nan nan nan nan\n",
      " nan nan nan nan nan nan nan nan nan nan nan nan nan nan nan nan nan nan\n",
      " nan nan nan nan nan nan nan nan nan nan nan nan nan nan nan nan nan nan\n",
      " nan nan nan nan nan nan nan nan nan nan nan nan nan nan nan nan nan nan\n",
      " nan nan nan nan nan nan nan nan nan nan nan nan nan nan nan nan nan nan\n",
      " nan nan nan nan nan nan nan nan nan nan nan nan nan nan nan nan nan nan\n",
      " nan nan]\n",
      "[nan nan nan nan nan nan nan nan nan nan nan nan nan nan nan nan nan nan\n",
      " nan nan nan nan nan nan nan nan nan nan nan nan nan nan nan nan nan nan\n",
      " nan nan nan nan nan nan nan nan nan nan nan nan nan nan nan nan nan nan\n",
      " nan nan nan nan nan nan nan nan nan nan nan nan nan nan nan nan nan nan\n",
      " nan nan nan nan nan nan nan nan nan nan nan nan nan nan nan nan nan nan\n",
      " nan nan nan nan nan nan nan nan nan nan nan nan nan nan nan nan nan nan\n",
      " nan nan nan nan nan nan nan nan nan nan nan nan nan nan nan nan nan nan\n",
      " nan nan nan nan nan nan nan nan nan nan nan nan nan nan nan nan nan nan\n",
      " nan nan nan nan nan nan nan nan nan nan nan nan nan nan nan nan nan nan\n",
      " nan nan nan nan nan nan nan nan nan nan nan nan nan nan nan nan nan nan\n",
      " nan nan nan nan nan nan nan nan nan nan nan nan nan nan nan nan nan nan\n",
      " nan nan]\n"
     ]
    }
   ],
   "source": [
    "z = np.sum([dot(K[i,:,:], mu_g[i,:]) for i in range(P)], axis=0)\n",
    "print z\n",
    "mu_a = dot(cov_a, z)\n",
    "print mu_a\n",
    "cov_a = diag(E_lambda) + K2"
   ]
  },
  {
   "cell_type": "code",
   "execution_count": 208,
   "metadata": {},
   "outputs": [
    {
     "name": "stdout",
     "output_type": "stream",
     "text": [
      "[[0.60913865 0.         0.         0.        ]\n",
      " [0.         0.46786111 0.         0.        ]\n",
      " [0.         0.         0.6651148  0.        ]\n",
      " [0.         0.         0.         0.59561409]]\n",
      "[0. 0. 0.]\n",
      "E_be [0. 0. 0.]\n",
      "[[nan nan nan nan nan]\n",
      " [nan nan nan nan nan]\n",
      " [nan nan nan nan nan]]\n"
     ]
    },
    {
     "data": {
      "text/plain": [
       "array([[nan, nan, nan, nan, nan, nan, nan, nan, nan, nan, nan, nan, nan,\n",
       "        nan, nan, nan, nan, nan, nan, nan, nan, nan, nan, nan, nan, nan,\n",
       "        nan, nan, nan, nan, nan, nan, nan, nan, nan, nan, nan, nan, nan,\n",
       "        nan, nan, nan, nan, nan, nan, nan, nan, nan, nan, nan, nan, nan,\n",
       "        nan, nan, nan, nan, nan, nan, nan, nan, nan, nan, nan, nan, nan,\n",
       "        nan, nan, nan, nan, nan, nan, nan, nan, nan, nan, nan, nan, nan,\n",
       "        nan, nan, nan, nan, nan, nan, nan, nan, nan, nan, nan, nan, nan,\n",
       "        nan, nan, nan, nan, nan, nan, nan, nan, nan, nan, nan, nan, nan,\n",
       "        nan, nan, nan, nan, nan, nan, nan, nan, nan, nan, nan, nan, nan,\n",
       "        nan, nan, nan, nan, nan, nan, nan, nan, nan, nan, nan, nan, nan,\n",
       "        nan, nan, nan, nan, nan, nan, nan, nan, nan, nan, nan, nan, nan,\n",
       "        nan, nan, nan, nan, nan, nan, nan, nan, nan, nan, nan, nan, nan,\n",
       "        nan, nan, nan, nan, nan, nan, nan, nan, nan, nan, nan, nan, nan,\n",
       "        nan, nan, nan, nan, nan, nan, nan, nan, nan, nan, nan, nan, nan,\n",
       "        nan, nan, nan, nan, nan, nan, nan, nan, nan, nan, nan, nan, nan,\n",
       "        nan, nan, nan, nan, nan],\n",
       "       [nan, nan, nan, nan, nan, nan, nan, nan, nan, nan, nan, nan, nan,\n",
       "        nan, nan, nan, nan, nan, nan, nan, nan, nan, nan, nan, nan, nan,\n",
       "        nan, nan, nan, nan, nan, nan, nan, nan, nan, nan, nan, nan, nan,\n",
       "        nan, nan, nan, nan, nan, nan, nan, nan, nan, nan, nan, nan, nan,\n",
       "        nan, nan, nan, nan, nan, nan, nan, nan, nan, nan, nan, nan, nan,\n",
       "        nan, nan, nan, nan, nan, nan, nan, nan, nan, nan, nan, nan, nan,\n",
       "        nan, nan, nan, nan, nan, nan, nan, nan, nan, nan, nan, nan, nan,\n",
       "        nan, nan, nan, nan, nan, nan, nan, nan, nan, nan, nan, nan, nan,\n",
       "        nan, nan, nan, nan, nan, nan, nan, nan, nan, nan, nan, nan, nan,\n",
       "        nan, nan, nan, nan, nan, nan, nan, nan, nan, nan, nan, nan, nan,\n",
       "        nan, nan, nan, nan, nan, nan, nan, nan, nan, nan, nan, nan, nan,\n",
       "        nan, nan, nan, nan, nan, nan, nan, nan, nan, nan, nan, nan, nan,\n",
       "        nan, nan, nan, nan, nan, nan, nan, nan, nan, nan, nan, nan, nan,\n",
       "        nan, nan, nan, nan, nan, nan, nan, nan, nan, nan, nan, nan, nan,\n",
       "        nan, nan, nan, nan, nan, nan, nan, nan, nan, nan, nan, nan, nan,\n",
       "        nan, nan, nan, nan, nan],\n",
       "       [nan, nan, nan, nan, nan, nan, nan, nan, nan, nan, nan, nan, nan,\n",
       "        nan, nan, nan, nan, nan, nan, nan, nan, nan, nan, nan, nan, nan,\n",
       "        nan, nan, nan, nan, nan, nan, nan, nan, nan, nan, nan, nan, nan,\n",
       "        nan, nan, nan, nan, nan, nan, nan, nan, nan, nan, nan, nan, nan,\n",
       "        nan, nan, nan, nan, nan, nan, nan, nan, nan, nan, nan, nan, nan,\n",
       "        nan, nan, nan, nan, nan, nan, nan, nan, nan, nan, nan, nan, nan,\n",
       "        nan, nan, nan, nan, nan, nan, nan, nan, nan, nan, nan, nan, nan,\n",
       "        nan, nan, nan, nan, nan, nan, nan, nan, nan, nan, nan, nan, nan,\n",
       "        nan, nan, nan, nan, nan, nan, nan, nan, nan, nan, nan, nan, nan,\n",
       "        nan, nan, nan, nan, nan, nan, nan, nan, nan, nan, nan, nan, nan,\n",
       "        nan, nan, nan, nan, nan, nan, nan, nan, nan, nan, nan, nan, nan,\n",
       "        nan, nan, nan, nan, nan, nan, nan, nan, nan, nan, nan, nan, nan,\n",
       "        nan, nan, nan, nan, nan, nan, nan, nan, nan, nan, nan, nan, nan,\n",
       "        nan, nan, nan, nan, nan, nan, nan, nan, nan, nan, nan, nan, nan,\n",
       "        nan, nan, nan, nan, nan, nan, nan, nan, nan, nan, nan, nan, nan,\n",
       "        nan, nan, nan, nan, nan]])"
      ]
     },
     "execution_count": 208,
     "metadata": {},
     "output_type": "execute_result"
    }
   ],
   "source": [
    "inv = np.linalg.inv\n",
    "\n",
    "cov_b_e = np.zeros((P+1,P+1))\n",
    "cov_b_e[0,0] = var_b\n",
    "cov_b_e[1:,1:] = cov_e\n",
    "print cov_b_e\n",
    "z = dot(cov_b_e[0,1:],inv(cov_e))\n",
    "print z[:3]\n",
    "E_be = mu_b * mu_e + dot(cov_e, z)\n",
    "print 'E_be', E_be\n",
    "\n",
    "z = dot(K, mu_a)\n",
    "print z[:5,:5]\n",
    "mu_g = cstack([dot(cov_g[i,:,:], (z[:,i] + mu_f[i]* mu_e + E_be)) for i in range(N)])\n",
    "mu_g"
   ]
  },
  {
   "cell_type": "code",
   "execution_count": 225,
   "metadata": {},
   "outputs": [
    {
     "name": "stdout",
     "output_type": "stream",
     "text": [
      "[[     1 100000]\n",
      " [     1 100000]\n",
      " [     1 100000]\n",
      " [     1 100000]\n",
      " [     1 100000]]\n",
      "[1. 1. 1. 1.] [100000. 100000. 100000. 100000.]\n",
      "[0.24197072 0.24197072 0.24197072 0.24197072] [0. 0. 0. 0.]\n",
      "[0.15865525 0.15865525 0.15865525 0.15865525]\n",
      "[0.19909767 0.19909767 0.19909767 0.19909767 0.19909767]\n"
     ]
    }
   ],
   "source": [
    "v = 1\n",
    "LU = arr(map(lambda x: (-10**5, -v) if x==-1 else (v,10**5), y))\n",
    "print LU[:5]\n",
    "eg = dot(mu_e.T, mu_g)\n",
    "alpha_f = LU[:,0] - eg - mu_b\n",
    "beta_f = LU[:,1] - eg - mu_b\n",
    "print alpha_f[:4],beta_f[:4]\n",
    "pdf_alpha_f = norm.pdf(alpha_f)\n",
    "pdf_beta_f = norm.pdf(beta_f)\n",
    "print pdf_alpha_f[:4],pdf_beta_f[:4]\n",
    "Z = norm.cdf(beta_f) - norm.cdf(alpha_f)\n",
    "print Z[:4]\n",
    "mu_f = eg + mu_b + (pdf_alpha_f - pdf_beta_f)/Z\n",
    "var_f = 1. + (alpha_f * pdf_alpha_f - beta_f * pdf_beta_f)/Z - (pdf_alpha_f - pdf_beta_f)**2/Z**2 \n",
    "print var_f[:5]\n",
    "E_f2 = var_f + mu_f**2\n",
    "\n",
    "E_lp_f = (-0.5 * E_f2 + (dot(mu_e.T,mu_g) + mu_b) * mu_f \n",
    "              - 0.5 * arr([(tr(dot(corr_e,corr_g[i,...])) + 2 * dot(E_be.T, mu_g[:,i]) + E_b2) \n",
    "                           for i in range(N)]) \n",
    "              - 0.5* log(2.0*np.pi)).sum()"
   ]
  },
  {
   "cell_type": "code",
   "execution_count": 267,
   "metadata": {},
   "outputs": [
    {
     "data": {
      "text/plain": [
       "array([[-3.21174770e-89, -9.51330485e-50,  7.41605516e-53,\n",
       "        -1.46269847e-56],\n",
       "       [-9.51330485e-50,  1.08494586e-13,  2.58343028e-15,\n",
       "        -1.03037943e-18],\n",
       "       [ 7.41605516e-53,  2.58343028e-15,  6.15156408e-17,\n",
       "        -2.45352309e-20],\n",
       "       [-1.46269847e-56, -1.03037943e-18, -2.45352309e-20,\n",
       "         9.78886525e-24]])"
      ]
     },
     "execution_count": 267,
     "metadata": {},
     "output_type": "execute_result"
    }
   ],
   "source": [
    "#z = dot(cov_b_e[0,1:],inv(cov_e))\n",
    "#E_be = mu_b * mu_e + dot(cov_e, z)\n",
    "print 'E_be', E_be\n",
    "#z = dot(K, mu_a)\n",
    "#print 'Ka', z[:5,:5]\n",
    "print 'cov_g', cov_g[:5,:5]\n",
    "mu_g = cstack([dot(cov_g[i,:,:], (dot(K[:,i,:], mu_a) + mu_f[i]* mu_e + E_be)) for i in range(N)])"
   ]
  },
  {
   "cell_type": "code",
   "execution_count": 260,
   "metadata": {},
   "outputs": [
    {
     "data": {
      "text/plain": [
       "1e-06"
      ]
     },
     "execution_count": 260,
     "metadata": {},
     "output_type": "execute_result"
    }
   ],
   "source": [
    "log(det(inv(diag(E_lambda) + K2))) if det(inv(diag(E_lambda) + K2))!=0 else 10**-6# + np.random.normal(scale=10**-3,size=cov_a.shape))\n"
   ]
  },
  {
   "cell_type": "code",
   "execution_count": 281,
   "metadata": {},
   "outputs": [
    {
     "data": {
      "text/plain": [
       "array([ 3.94455581e+47,  1.27025937e+49, -6.57706512e+49,  7.95515751e+49,\n",
       "        2.21548718e+49,  4.07051042e+48, -1.03261371e+48, -3.41738849e+48,\n",
       "       -2.89784803e+48, -1.66023250e+49,  1.05188155e+48, -6.94712814e+48,\n",
       "       -8.86142411e+47,  4.21576855e+49,  3.00168030e+47, -2.65004215e+48,\n",
       "       -2.13687525e+49,  1.12230730e+48, -8.03866042e+48,  4.56567617e+48,\n",
       "       -1.15294853e+48, -5.50694602e+47,  1.19540915e+48, -6.67059890e+48,\n",
       "       -1.98530154e+48,  9.35521613e+49,  2.59759080e+47,  3.72636532e+48,\n",
       "        1.63277136e+48,  1.10361036e+49, -1.47028813e+48, -1.40583898e+47,\n",
       "       -7.24310363e+48,  1.57318377e+48, -3.16550158e+48, -3.23012914e+48,\n",
       "        9.70528431e+46, -8.01845594e+47, -1.51368538e+48,  1.07400389e+47,\n",
       "        5.85555127e+48, -5.87919006e+48, -1.03921473e+46,  7.32311871e+48,\n",
       "       -3.87479908e+48, -5.27439385e+48, -4.31858391e+48, -4.43429802e+49,\n",
       "        8.21202641e+47, -6.44562899e+48, -3.41754460e+48,  3.23271602e+47,\n",
       "        4.51875540e+48, -1.38443026e+47,  2.17007659e+49,  3.17955244e+48,\n",
       "       -2.14087154e+46, -3.57302540e+47, -7.78197884e+48,  4.83836968e+47,\n",
       "       -2.64045283e+49,  1.15052332e+47, -8.65268914e+46, -6.40025812e+48,\n",
       "       -3.05074194e+46, -1.06625772e+49,  1.83251914e+48,  1.12752568e+47,\n",
       "       -4.63364884e+47,  9.27711000e+45, -3.04271367e+48, -3.41647416e+48,\n",
       "       -3.29069796e+47, -8.16385680e+47, -6.37979719e+47, -1.10745501e+48,\n",
       "       -1.52996493e+49, -5.02087898e+48, -1.07040009e+49,  2.29240956e+49,\n",
       "       -4.12560218e+49, -9.56345157e+47, -4.61901955e+48,  2.79740548e+47,\n",
       "       -2.18850593e+48, -4.56005638e+47,  2.82702087e+48,  4.60885041e+48,\n",
       "        1.43768723e+48, -1.18845131e+48, -2.99722015e+46,  9.72589577e+48,\n",
       "        1.10754421e+48,  8.39578455e+47,  7.20760085e+46, -1.11250055e+48,\n",
       "       -2.70106626e+47,  3.28605941e+48, -1.32734035e+47,  6.73304099e+47,\n",
       "       -1.86420292e+43, -9.23390231e+42, -4.87828801e+42, -6.96898287e+41,\n",
       "        3.96360901e+42, -3.72840584e+43, -1.08019235e+43,  2.50883383e+43,\n",
       "        1.34370701e+43,  1.72046765e+43, -1.04534743e+43,  2.33460926e+43,\n",
       "        7.94899609e+42,  1.11503726e+43,  3.79809567e+43, -5.88007930e+42,\n",
       "       -1.23699446e+43, -1.32410675e+43,  3.48449144e+42,  4.87828801e+42,\n",
       "        3.48449144e+41,  6.72942409e+42, -1.21957200e+42,  9.40812688e+42,\n",
       "        7.44810045e+42,  1.32410675e+43, -2.09069486e+42,  9.23390231e+42,\n",
       "        1.35024043e+43,  8.01433031e+42, -6.27208459e+42,  2.91826158e+42,\n",
       "       -2.36945418e+43,  8.01433031e+42, -1.62028852e+43,  1.28926183e+43,\n",
       "       -7.42632238e+42,  8.36277945e+42, -8.36277945e+42, -1.10632603e+43,\n",
       "       -1.21957200e+42, -2.12553978e+43,  3.09248615e+42, -1.14988217e+43,\n",
       "        6.62053373e+42, -4.96540030e+42, -1.02356936e+43,  7.49165659e+42,\n",
       "       -1.14988217e+43,  4.96540030e+42, -4.96540030e+42, -1.74224572e+42,\n",
       "       -2.28234189e+43, -2.14296223e+43, -1.21957200e+43, -2.87470544e+42,\n",
       "        3.83294058e+42, -3.48449144e+42, -1.55059869e+43,  3.48449144e+41,\n",
       "        5.22673716e+42,  9.14679002e+42, -6.27208459e+42, -1.39379657e+43,\n",
       "        1.53317623e+43, -2.09069486e+42, -1.52010939e+43,  2.52081177e+43,\n",
       "       -1.84678046e+43,  1.04534743e+43,  5.22673716e+42,  2.16038469e+43,\n",
       "       -3.57160372e+42, -1.14988217e+43,  2.12553978e+43, -1.11503726e+43,\n",
       "        1.01921375e+43, -1.14988217e+43, -4.20316780e+42,  6.62053373e+42,\n",
       "        1.30668429e+43, -1.26312815e+43, -5.57518630e+42, -2.61336858e+42,\n",
       "       -5.44451787e+42, -2.09069486e+42,  1.06276989e+43, -9.14679002e+42,\n",
       "       -4.87828801e+42,  1.25441692e+43,  1.81193555e+43, -1.56802115e+42,\n",
       "       -6.01074773e+42, -7.31743202e+42, -2.45656646e+43,  1.35895166e+43,\n",
       "       -1.26312815e+42,  1.37637412e+43, -1.25441692e+43,  3.08377492e+43])"
      ]
     },
     "execution_count": 281,
     "metadata": {},
     "output_type": "execute_result"
    }
   ],
   "source": [
    "mu_a"
   ]
  },
  {
   "cell_type": "code",
   "execution_count": 207,
   "metadata": {},
   "outputs": [
    {
     "data": {
      "text/plain": [
       "array([[0.60913865, 0.        , 0.        , 0.        ],\n",
       "       [0.        , 0.46786111, 0.        , 0.        ],\n",
       "       [0.        , 0.        , 0.6651148 , 0.        ],\n",
       "       [0.        , 0.        , 0.        , 0.59561409]])"
      ]
     },
     "execution_count": 207,
     "metadata": {},
     "output_type": "execute_result"
    }
   ],
   "source": [
    "cov_b_e = np.zeros((P+1,P+1))\n",
    "cov_b_e[0,0] = var_b\n",
    "cov_b_e[1:,1:] = cov_e\n",
    "cov_b_e"
   ]
  },
  {
   "cell_type": "code",
   "execution_count": 257,
   "metadata": {},
   "outputs": [
    {
     "data": {
      "text/plain": [
       "198"
      ]
     },
     "execution_count": 257,
     "metadata": {},
     "output_type": "execute_result"
    }
   ],
   "source": [
    "np.linalg.matrix_rank(inv(diag(E_lambda) + K2))"
   ]
  },
  {
   "cell_type": "code",
   "execution_count": 278,
   "metadata": {},
   "outputs": [
    {
     "data": {
      "text/plain": [
       "array([[-3.89878831e+095, -1.25552093e+097,  6.50075339e+097, ...,\n",
       "        -1.36040446e+091,  1.23986229e+091, -3.04799480e+091],\n",
       "       [-2.38446233e+096, -7.67864812e+097,  3.97579975e+098, ...,\n",
       "        -8.32010596e+091,  7.58288138e+091, -1.86412501e+092],\n",
       "       [-2.32630335e+096, -7.49135964e+097,  3.87882675e+098, ...,\n",
       "        -8.11717180e+091,  7.39792873e+091, -1.81865748e+092],\n",
       "       ...,\n",
       "       [ 1.03223265e+100,  3.32408327e+101, -1.72112190e+102, ...,\n",
       "         3.60177008e+095, -3.28262589e+095,  8.06978865e+095],\n",
       "       [ 1.03804905e+100,  3.34281372e+101, -1.73082002e+102, ...,\n",
       "         3.62206522e+095, -3.30112274e+095,  8.11526006e+095],\n",
       "       [ 1.05695208e+100,  3.40368688e+101, -1.76233853e+102, ...,\n",
       "         3.68802360e+095, -3.36123670e+095,  8.26304022e+095]])"
      ]
     },
     "execution_count": 278,
     "metadata": {},
     "output_type": "execute_result"
    }
   ],
   "source": [
    "dot(K[:,:,1].T, outer(mu_g[:,1], mu_a.T)) "
   ]
  },
  {
   "cell_type": "code",
   "execution_count": 280,
   "metadata": {},
   "outputs": [
    {
     "data": {
      "text/plain": [
       "array([-8.60894603e+47, -1.12326416e+48, -1.11950883e+48])"
      ]
     },
     "execution_count": 280,
     "metadata": {},
     "output_type": "execute_result"
    }
   ],
   "source": [
    "mu_g[:,1]"
   ]
  },
  {
   "cell_type": "code",
   "execution_count": 284,
   "metadata": {},
   "outputs": [
    {
     "name": "stdout",
     "output_type": "stream",
     "text": [
      "[[[1. 0.]\n",
      "  [0. 1.]]\n",
      "\n",
      " [[1. 0.]\n",
      "  [0. 1.]]\n",
      "\n",
      " [[1. 0.]\n",
      "  [0. 1.]]]\n"
     ]
    }
   ],
   "source": [
    "t = np.zeros((3,2,2))\n",
    "t[:,:,:] = np.eye(2)\n",
    "print t"
   ]
  },
  {
   "cell_type": "code",
   "execution_count": 326,
   "metadata": {},
   "outputs": [],
   "source": [
    "np.diag?"
   ]
  },
  {
   "cell_type": "code",
   "execution_count": null,
   "metadata": {},
   "outputs": [],
   "source": []
  }
 ],
 "metadata": {
  "kernelspec": {
   "display_name": "Python 2",
   "language": "python",
   "name": "python2"
  },
  "language_info": {
   "codemirror_mode": {
    "name": "ipython",
    "version": 2
   },
   "file_extension": ".py",
   "mimetype": "text/x-python",
   "name": "python",
   "nbconvert_exporter": "python",
   "pygments_lexer": "ipython2",
   "version": "2.7.12"
  }
 },
 "nbformat": 4,
 "nbformat_minor": 2
}

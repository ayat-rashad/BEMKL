{
 "cells": [
  {
   "cell_type": "code",
   "execution_count": 4,
   "metadata": {},
   "outputs": [],
   "source": [
    "import pandas as pd\n",
    "\n",
    "import scipy as sc\n",
    "from scipy.io import loadmat\n",
    "\n",
    "import numpy as np\n",
    "\n",
    "from sklearn.metrics.pairwise import rbf_kernel\n",
    "from sklearn.metrics.pairwise import polynomial_kernel\n",
    "\n",
    "np.random.seed(123)"
   ]
  },
  {
   "cell_type": "markdown",
   "metadata": {},
   "source": [
    "# Read Data"
   ]
  },
  {
   "cell_type": "code",
   "execution_count": 5,
   "metadata": {},
   "outputs": [],
   "source": [
    "# splits\n",
    "# images\n",
    "# distances matrix\n",
    "DATA_DIR = \"../data\"\n",
    "\n",
    "# DATASET1: 17 Category Flowers\n",
    "# 'val1', 'val2', 'val3', 'trn1', 'trn2', 'trn3', 'tst3', 'tst2', 'tst1'\n",
    "'''splits = loadmat(\"%s/cat_flower/datasplits.mat\" %DATA_DIR)\n",
    "\n",
    "# 'D_siftbdy', 'D_siftint', 'D_hsv', 'D_hog',\n",
    "distances = loadmat(\"%s/cat_flower/distancematrices17itfeat08.mat\" %DATA_DIR)\n",
    "\n",
    "imlist = loadmat(\"%s/cat_flower/trimaps/imlist.mat\" %DATA_DIR)\n",
    "'''\n",
    "\n",
    "# DATASET2: 102 Category Flowers\n",
    "# 'val1', 'val2', 'val3', 'trn1', 'trn2', 'trn3', 'tst3', 'tst2', 'tst1'\n",
    "ds2_splits = loadmat(\"%s/102_cat_flower/setid.mat\" %DATA_DIR)\n",
    "\n",
    "# 'D_siftbdy', 'D_siftint', 'D_hsv', 'D_hog',\n",
    "ds2_distances = loadmat(\"%s/102_cat_flower/distancematrices102.mat\" %DATA_DIR)\n",
    "\n",
    "ds2_labels = loadmat(\"%s/102_cat_flower/imagelabels.mat\" %DATA_DIR)"
   ]
  },
  {
   "cell_type": "markdown",
   "metadata": {},
   "source": []
  },
  {
   "cell_type": "markdown",
   "metadata": {},
   "source": [
    "# Prepare"
   ]
  },
  {
   "cell_type": "code",
   "execution_count": 6,
   "metadata": {},
   "outputs": [],
   "source": [
    "'''KERNELS = {\n",
    "    'gaussian': get_gaussian_kernel,\n",
    "    'poly': get_ploynomial_kernel,\n",
    "    'dist': get_distances_to_kernel\n",
    "}'''\n",
    "\n",
    "def get_gaussian_kernel(X, width=.2):\n",
    "    return rbf_kernel(X, gamma=1.0/width)\n",
    "\n",
    "def get_ploynomial_kernel(X, deg=2):\n",
    "    return polynomial_kernel(X, degree=deg)\n",
    "\n",
    "def get_distances_to_kernel(X):\n",
    "    return (-X/X.mean())\n",
    "\n",
    "def get_kernels(X, poly=False, gauss=False, distk=False):\n",
    "    kernels = []\n",
    "    \n",
    "    if poly:\n",
    "        degrees = [1,2,3]\n",
    "        \n",
    "        for deg in degrees:\n",
    "            kernels.append(get_ploynomial_kernel(X, deg=deg))\n",
    "            \n",
    "            \n",
    "    if gauss:\n",
    "        widths = map(lambda x: 2**x, np.arange(-3,6))\n",
    "        \n",
    "        for w in widths:\n",
    "            kernels.append(get_gaussian_kernel(X, width=w))\n",
    "            \n",
    "            \n",
    "    if distk:\n",
    "        kernels.append(get_distances_to_kernel(X))\n",
    "        \n",
    "    return kernels\n",
    "    \n",
    "    "
   ]
  },
  {
   "cell_type": "markdown",
   "metadata": {},
   "source": [
    "# Dummy"
   ]
  },
  {
   "cell_type": "code",
   "execution_count": 30,
   "metadata": {},
   "outputs": [
    {
     "name": "stdout",
     "output_type": "stream",
     "text": [
      "(200, 200)\n"
     ]
    }
   ],
   "source": [
    "x1 = np.random.normal(0,1,100)\n",
    "y1 = np.repeat(1,100)\n",
    "x2 = np.random.normal(50,1,100)\n",
    "y2 = np.repeat(-1,100)\n",
    "\n",
    "N = 200\n",
    "x = np.concatenate((x1,x2))\n",
    "y = np.concatenate((y1,y2))\n",
    "\n",
    "K = [get_ploynomial_kernel(x.reshape((-1,1)), i) for i in range(3)]\n",
    "print K[0].shape\n",
    "\n",
    "P = 3"
   ]
  },
  {
   "cell_type": "markdown",
   "metadata": {},
   "source": [
    "# BEMKL"
   ]
  },
  {
   "cell_type": "code",
   "execution_count": 51,
   "metadata": {},
   "outputs": [
    {
     "name": "stdout",
     "output_type": "stream",
     "text": [
      "(3, 200)\n",
      "G (3, 200)\n",
      "COV_b_e (4, 4)\n",
      "e (3,)\n"
     ]
    },
    {
     "ename": "ValueError",
     "evalue": "operands could not be broadcast together with shapes (3,200) (3,) ",
     "output_type": "error",
     "traceback": [
      "\u001b[0;31m---------------------------------------------------------------------------\u001b[0m",
      "\u001b[0;31mValueError\u001b[0m                                Traceback (most recent call last)",
      "\u001b[0;32m<ipython-input-51-e16b673df7d6>\u001b[0m in \u001b[0;36m<module>\u001b[0;34m()\u001b[0m\n\u001b[1;32m     91\u001b[0m \u001b[0;34m\u001b[0m\u001b[0m\n\u001b[1;32m     92\u001b[0m     mu_g = np.array([dot(cov_g[i],(dot([K[j][i,:] for j in range(P)], mu_a) + mu_f[i]* mu_e + mu_b_e))\n\u001b[0;32m---> 93\u001b[0;31m                 for i in range(N)])\n\u001b[0m\u001b[1;32m     94\u001b[0m     \u001b[0mcov_g\u001b[0m \u001b[0;34m=\u001b[0m \u001b[0;34m(\u001b[0m\u001b[0mnp\u001b[0m\u001b[0;34m.\u001b[0m\u001b[0midentity\u001b[0m\u001b[0;34m(\u001b[0m\u001b[0mP\u001b[0m\u001b[0;34m)\u001b[0m \u001b[0;34m+\u001b[0m \u001b[0mcov_e\u001b[0m \u001b[0;34m+\u001b[0m \u001b[0mnp\u001b[0m\u001b[0;34m.\u001b[0m\u001b[0mouter\u001b[0m\u001b[0;34m(\u001b[0m\u001b[0mmu_e\u001b[0m\u001b[0;34m,\u001b[0m\u001b[0mmu_e\u001b[0m\u001b[0;34m)\u001b[0m\u001b[0;34m)\u001b[0m\u001b[0;34m**\u001b[0m\u001b[0;34m-\u001b[0m\u001b[0;36m1\u001b[0m\u001b[0;34m\u001b[0m\u001b[0m\n\u001b[1;32m     95\u001b[0m \u001b[0;34m\u001b[0m\u001b[0m\n",
      "\u001b[0;31mValueError\u001b[0m: operands could not be broadcast together with shapes (3,200) (3,) "
     ]
    }
   ],
   "source": [
    "# Helper Functions\n",
    "log = np.log\n",
    "gamma = sc.special.gamma\n",
    "digamma = sc.special.digamma\n",
    "det = np.linalg.det\n",
    "diag = np.diag\n",
    "outer = np.outer\n",
    "tr = np.trace\n",
    "dot =  np.dot\n",
    "concat = np.concatenate\n",
    "normal = np.random.normal\n",
    "arr = np.array\n",
    "\n",
    "\n",
    "# Hyper Parameters (prior)\n",
    "sparse = False\n",
    "\n",
    "alpha_lambda, beta_lambda = 1.0,1.0\n",
    "alpha_gamma, beta_gamma = 1.0,1.0\n",
    "alpha_omega, beta_omega = 1.0,1.0\n",
    "\n",
    "if sparse:\n",
    "    alpha_omega, beta_omega = 10.0**-10, 10.0**10\n",
    "\n",
    "rv_lambda = np.random.gamma(alpha_lambda, 1.0/beta_lambda, N) \n",
    "a = np.array([np.random.normal(0, 1.0/rv_lambda[i], 1) for i in range(N)])\n",
    "\n",
    "rv_gamma = np.random.gamma(alpha_gamma, 1.0/beta_gamma, 1) \n",
    "rv_b = np.random.normal(0, 1.0/rv_gamma, 1)\n",
    "\n",
    "rv_omega = np.random.gamma(alpha_omega, 1.0/beta_omega, P) \n",
    "rv_e = np.array([np.random.normal(0, 1.0/rv_omega[i], 1) for i in range(P)])\n",
    "\n",
    "# The conditionals parameters\n",
    "p_alpha_lambda = np.repeat(alpha_lambda, N)\n",
    "p_beta_lambda = np.repeat(beta_lambda, N)\n",
    "p_alpha_gamma = alpha_gamma\n",
    "p_beta_gamma = beta_gamma\n",
    "p_alpha_omega = np.repeat(alpha_omega, P)\n",
    "p_beta_omega = np.repeat(alpha_omega, P)\n",
    "\n",
    "mu_a = np.repeat(0, N)\n",
    "mu_b = 0\n",
    "mu_e = np.repeat(0, P)\n",
    "cov_a = diag(1.0/rv_lambda)\n",
    "cov_e = np.diag(1.0 / rv_omega)\n",
    "\n",
    "mu_g = np.vstack([dot(a.T, K[i]) for i in range(P)])\n",
    "print mu_g.shape\n",
    "G = np.array([[np.random.normal(mu_g[i,j],1, 1)[0] for j in range(N)] for i in range(P)])\n",
    "print 'G', G.shape\n",
    "cov_g = [(outer(G[:,i],G[:,i])- outer(mu_g[:,i], mu_g[:,i])) \n",
    "                  for i in range(N)]\n",
    "\n",
    "mu_b_e = np.concatenate(([mu_b],mu_e))\n",
    "cov_b_e = np.vstack(([rv_b if i==0 else 0 for i in range(P+1)],\n",
    "                np.hstack((np.zeros((P,1)),cov_e))))\n",
    "print 'COV_b_e', cov_b_e.shape\n",
    "\n",
    "omega = np.random.gamma(alpha_omega, 1.0/beta_omega, P)\n",
    "e = concat([normal(0,omega[i],1) for i in range(P)])\n",
    "print 'e', e.shape\n",
    "mu_f = np.array([dot(e,G[:,i])+ rv_b for i in range(N)])\n",
    "\n",
    "E_a2 = np.diag(cov_a) + mu_a**2 \n",
    "E_b2 = 1.0 / rv_gamma + mu_b\n",
    "E_e2 = np.diag(cov_e) + mu_e**2\n",
    "\n",
    "thresh = 1.0 * 10**-4\n",
    "ELBO_init = 0\n",
    "\n",
    "K2 = np.sum([dot(K[i], K[i].T) for i in range(P)])\n",
    "\n",
    "\n",
    "while True: \n",
    "    # Update the parameters:\n",
    "    ########################\n",
    "    p_alpha_lambda = np.repeat(alpha_lambda + 0.5, N)\n",
    "    p_beta_lambda = (beta_lambda**-1 + E_a2/2.0)**-1\n",
    "    p_alpha_gamma = alpha_gamma + 0.5\n",
    "    p_beta_gamma = (beta_gamma**-1 + E_b2/2.0)**-1\n",
    "    p_alpha_omega = np.repeat(alpha_omega + 0.5, P)\n",
    "    p_beta_omega = (beta_omega**-1 + E_e2/2.0)**-1\n",
    "    \n",
    "    E_lambda = p_alpha_lambda/p_beta_lambda\n",
    "    E_gamma = p_alpha_gamma/p_beta_gamma\n",
    "    E_omega = p_alpha_omega/p_beta_omega\n",
    "\n",
    "    mu_a = dot(cov_a, np.sum([dot(K[i], mu_g[i,:]) for i in range(P)]))\n",
    "    cov_a = diag(E_lambda) + K2\n",
    "    \n",
    "    mu_g = np.array([dot(cov_g[i],(dot([K[j][i,:] for j in range(P)], mu_a) + mu_f[i]* mu_e + mu_b_e))\n",
    "                for i in range(N)])\n",
    "    cov_g = (np.identity(P) + cov_e + np.outer(mu_e,mu_e))**-1\n",
    "    \n",
    "    mu_b_e = dot(cov_b_e, [mu_f.sum() if i==0 else dot(mu_g,mu_f) for i in range(P+1)])\n",
    "    cov_b_e[0,0] = E_gamma + N\n",
    "    cov_b_e[0,1:] = mu_g.T.sum(axis=1)\n",
    "    cov_b_e[1:,0] = mu_g.sum(axis=1)\n",
    "    cov_b_e[1:,1:] = diag(E_omega) + dot(G,G.T)\n",
    "    cov_b_e = cov_b_e**-1\n",
    "    \n",
    "    mu_f = np.array([dot(mu_b_e[1:], mu_g[:,i]) for i in range(N)])\n",
    "    \n",
    "    # Calculate the ELBO\n",
    "    ###################\n",
    "    # E(log(p(lambda)))\n",
    "    E_log_lambda = np.array([log(np.random.gamma(p_alpha_lambda[i], p_beta_lambda[i], 100)).mean()\n",
    "                             for i in range(N)])\n",
    "    E_lp_lambda = ((alpha_lambda - 1) * E_log_lambda - 1.0/beta_lambda * E_lambda - log(gamma(alph_lambda))\n",
    "            - alpha_lambda * log(beta_lambda)).sum()\n",
    "\n",
    "    # E(log(p(a|lambda)))\n",
    "    E_lp_a_lambda = ( - 0.05 * (diag(E_lambda) * Cov_a).diag.sum() - 0.5 * N *log(2.0*np.pi) \n",
    "                     + 0.05 * log(np.prod(E_lambda)))\n",
    "\n",
    "    # E(log(p(G|a,K)))\n",
    "    k_i = np.array([K[j][i,:] for j in range(P)])\n",
    "    E_lp_G = np.sum([-.5 * (diag(cov_g[i])+mu_g[:,i]**2).sum() \n",
    "                     + np.trace(dot(k_i.T, dot(mu_g[:,i],mu_a)))\n",
    "                     - 0.5 * np.trace( (k_i**2).sum() * (cov_a + outer(mu_a,mu_a) )) \n",
    "                     for i in range(N)] )\n",
    "\n",
    "    # E(log(p(gamma)))\n",
    "    E_lp_gamma = ((alpha_gamma - 1) * E_log_gamma - E_gamma/beta_gamma - log_gamma_alph_gamma \n",
    "                  - alpha_gamma * log(beta_gamma))\n",
    "\n",
    "    # E(log(p(b|gamma)))\n",
    "    E_lp_b = (- 0.5 * E_gamma * E_b2 - 0.5 *log(2.0*np.pi) + 0.5 * log(E_gamma))\n",
    "\n",
    "    # E(log(p(omega)))\n",
    "    E_lp_omega = ((alpha_omega - 1) * E_log_omega - E_omega/beta_omega - log_gamma_alph_omega \n",
    "                  - alpha_omega * log(beta_omega) ).sum()\n",
    "\n",
    "    # E(log(p(e|omega)))\n",
    "    E_lp_e = ( -0.5 * (diag(E_omega) * Cov_e).diag.sum() - 0.5 * P * log(2.0*np.pi)\n",
    "             + 0.05 * log(np.prod(E_omega)))\n",
    "\n",
    "    # E(log(p(f|e,b,G)))\n",
    "    E_lp_f = (-0.5 * E_f2 + (dot(E_e,E_G) + b) * E_f - 0.5 * ([dot(Cov_e,Cov_g).diag.sum() for i in range(N)]\n",
    "            + 2 * dot(E_b_e, E_G) + E_b2) - 0.5* log(2.0*np.pi)).sum()\n",
    "\n",
    "\n",
    "    # E(log(q(lambda)))\n",
    "    E_lq_lambda = (-p_alpha_lambda - log(p_beta_lambda) - log(gamma(p_alpha_lambda)) \n",
    "                   - (1-p_alpha_lambda) * digamma(p_alpha_lambda)).sum()\n",
    "\n",
    "    # E(log(q(a)))\n",
    "    E_lq_a = -0.5 * N * (log(2.0*np.pi)+1) - 0.5 * log(det(cov_a))\n",
    "\n",
    "    # E(log(q(G)))\n",
    "    E_lq_G = (-0.5 * P *(log(2.0*np.pi)+1) - 0.5 * np.array([log(det(cov_g[i])) for i in range(N)])).sum()\n",
    "\n",
    "    # E(log(q(gamma)))\n",
    "    E_lq_gamma = (-p_alpha_gamma - log(p_beta_gamma) - log(gamma(p_alpha_gamma)) \n",
    "                   - (1-p_alpha_gamma) * digamma(p_alpha_gamma))\n",
    "\n",
    "    # E(log(q(omega)))\n",
    "    E_lq_omega = (-p_alpha_omega - log(p_beta_omega) - log(gamma(p_alpha_omega)) \n",
    "                   - (1-p_alpha_omega) * digamma(p_alpha_omega)).sum()\n",
    "\n",
    "    # E(log(q(b,e)))\n",
    "    E_lq_b_e = (-0.5 * (P+1) *(log(2.0*np.pi)+1) - 0.5 * log(det(cov_b_e)) )\n",
    "\n",
    "    # E(log(q(f)))\n",
    "    E_lq_f = (-0.5 * (log(2.0*np.pi) + cov_f) - log(Z)).sum()\n",
    "\n",
    "\n",
    "    ELBO = (E_lp_lambda + E_lp_a_lambda + E_lp_G + E_lp_gamma + E_lp_b + E_lp_omega + E_lp_e + E_lp_f\n",
    "            - E_lq_lambda - E_lq_a - E_lq_G - E_lq_gamma - E_lq_omega - E_lq_b_e - E_lq_f)\n",
    "    \n",
    "    if np.abs(ELBO - ELBO_init) < thresh:\n",
    "        print 'Convergence'\n",
    "        break\n",
    "        \n",
    "    ELBO_init = ELBO\n",
    "\n",
    "    \n",
    "    "
   ]
  },
  {
   "cell_type": "code",
   "execution_count": 47,
   "metadata": {},
   "outputs": [
    {
     "data": {
      "text/plain": [
       "array([[ 0.        ,  0.2110523 ,  0.        ,  0.        ],\n",
       "       [ 0.        ,  0.        , 11.3719084 ,  0.        ],\n",
       "       [ 0.        ,  0.        ,  0.        ,  0.70242415]])"
      ]
     },
     "execution_count": 47,
     "metadata": {},
     "output_type": "execute_result"
    }
   ],
   "source": [
    "np.hstack((np.zeros((P,1)),cov_e))"
   ]
  },
  {
   "cell_type": "code",
   "execution_count": 46,
   "metadata": {},
   "outputs": [
    {
     "data": {
      "text/plain": [
       "(3,)"
      ]
     },
     "execution_count": 46,
     "metadata": {},
     "output_type": "execute_result"
    }
   ],
   "source": [
    "cov_e.shape\n",
    "np.zeros((P)).shape"
   ]
  },
  {
   "cell_type": "code",
   "execution_count": null,
   "metadata": {},
   "outputs": [],
   "source": []
  }
 ],
 "metadata": {
  "kernelspec": {
   "display_name": "Python 2",
   "language": "python",
   "name": "python2"
  },
  "language_info": {
   "codemirror_mode": {
    "name": "ipython",
    "version": 2
   },
   "file_extension": ".py",
   "mimetype": "text/x-python",
   "name": "python",
   "nbconvert_exporter": "python",
   "pygments_lexer": "ipython2",
   "version": "2.7.12"
  }
 },
 "nbformat": 4,
 "nbformat_minor": 2
}

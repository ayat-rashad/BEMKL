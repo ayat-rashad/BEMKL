{
 "cells": [
  {
   "cell_type": "code",
   "execution_count": 1,
   "metadata": {},
   "outputs": [],
   "source": [
    "import util\n",
    "import bemkl_binary\n",
    "import pandas as pd\n",
    "from util import *\n",
    "from bemkl_binary import *"
   ]
  },
  {
   "cell_type": "code",
   "execution_count": 2,
   "metadata": {},
   "outputs": [],
   "source": [
    "DATA_DIR = \"../data\"\n",
    "\n",
    "def get_pima_data():\n",
    "    data_dir = \"%s/UCI/pima-indians-diabetes\" %DATA_DIR\n",
    "    files = [f for f in os.listdir(data_dir) if f.startswith(\"pima-indians-diabetes.data\")]\n",
    "    dfs = [pd.read_csv(\"%s/%s\" %(data_dir,f), header=None) for f in files]\n",
    "    data = np.concatenate(dfs)\n",
    "    \n",
    "    msk = data[:,-1] > 0\n",
    "    data[msk, -1] = 1.\n",
    "    data[~msk, -1] = -1.\n",
    "\n",
    "    X = data[:,:-1]\n",
    "    y = data[:, -1]\n",
    "    \n",
    "    return X, y"
   ]
  },
  {
   "cell_type": "code",
   "execution_count": 22,
   "metadata": {},
   "outputs": [],
   "source": [
    "X_pima, y_pima = get_pima_data()\n",
    "\n",
    "\n",
    "N = 537 \n",
    "\n",
    "X_pima = util.preprocess_feats(X_pima)\n",
    "K_pima = util.get_kernels(X_pima, poly=True)\n",
    "K_pima = util.preprocess_kernel(K_pima)\n",
    "K, K_test = K_pima[:,:N,:N],K_pima[:,N:,:N]\n",
    "y, y_test = y_pima[:N], y_pima[N:]"
   ]
  },
  {
   "cell_type": "code",
   "execution_count": 23,
   "metadata": {},
   "outputs": [],
   "source": [
    "bemkl = BEMKL()"
   ]
  },
  {
   "cell_type": "markdown",
   "metadata": {},
   "source": [
    "#### Training "
   ]
  },
  {
   "cell_type": "code",
   "execution_count": 24,
   "metadata": {},
   "outputs": [],
   "source": [
    "bemkl.bemkl_binary(K, y)"
   ]
  },
  {
   "cell_type": "markdown",
   "metadata": {},
   "source": [
    "#### Testing"
   ]
  },
  {
   "cell_type": "code",
   "execution_count": 25,
   "metadata": {},
   "outputs": [
    {
     "name": "stdout",
     "output_type": "stream",
     "text": [
      "Accuracy:\n",
      "83.98 %\n"
     ]
    }
   ],
   "source": [
    "pred, prob = bemkl.predict(K_test)\n",
    "print('Accuracy:')\n",
    "print('%.2f' %((pred==y_test).sum()*1./y_test.shape[0]*100), '%')"
   ]
  },
  {
   "cell_type": "code",
   "execution_count": null,
   "metadata": {},
   "outputs": [],
   "source": []
  }
 ],
 "metadata": {
  "kernelspec": {
   "display_name": "Python 3",
   "language": "python",
   "name": "python3"
  },
  "language_info": {
   "codemirror_mode": {
    "name": "ipython",
    "version": 3
   },
   "file_extension": ".py",
   "mimetype": "text/x-python",
   "name": "python",
   "nbconvert_exporter": "python",
   "pygments_lexer": "ipython3",
   "version": "3.6.4"
  }
 },
 "nbformat": 4,
 "nbformat_minor": 2
}

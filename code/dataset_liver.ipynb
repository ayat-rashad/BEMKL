{
 "cells": [
  {
   "cell_type": "code",
   "execution_count": 1,
   "metadata": {},
   "outputs": [],
   "source": [
    "import pandas as pd\n",
    "\n",
    "import scipy as sc\n",
    "from scipy.io import loadmat\n",
    "\n",
    "import numpy as np\n",
    "\n",
    "from sklearn.metrics.pairwise import rbf_kernel\n",
    "from sklearn.metrics.pairwise import polynomial_kernel\n",
    "\n",
    "from matplotlib import pyplot as plt\n",
    "%matplotlib inline\n",
    "\n",
    "np.random.seed(123)"
   ]
  },
  {
   "cell_type": "code",
   "execution_count": 2,
   "metadata": {},
   "outputs": [],
   "source": [
    "import util\n",
    "from util import *"
   ]
  },
  {
   "cell_type": "code",
   "execution_count": 3,
   "metadata": {},
   "outputs": [
    {
     "data": {
      "text/plain": [
       "<module 'util' from 'util.pyc'>"
      ]
     },
     "execution_count": 3,
     "metadata": {},
     "output_type": "execute_result"
    }
   ],
   "source": [
    "reload(util)"
   ]
  },
  {
   "cell_type": "markdown",
   "metadata": {},
   "source": [
    "## Prepare\n",
    "\n",
    "1. Features: \n",
    "   - kernel of all features\n",
    "   - kernel of each feature\n",
    "   - gaussian, polynomial\n",
    "   \n",
    "2. Features preprocessing:\n",
    "   - normalization of the features\n",
    "   - spherical normalization of kernel matrices\n",
    "   \n",
    "3. levels of sparsity\n"
   ]
  },
  {
   "cell_type": "markdown",
   "metadata": {},
   "source": [
    "# Read Data"
   ]
  },
  {
   "cell_type": "markdown",
   "metadata": {},
   "source": [
    "### Breast Data"
   ]
  },
  {
   "cell_type": "code",
   "execution_count": 4,
   "metadata": {},
   "outputs": [],
   "source": [
    "reload(util)\n",
    "\n",
    "X_breast, y_breast = util.get_breast_data()\n",
    "X_breast = util.preprocess_feats(X_breast)\n",
    "\n",
    "\n",
    "N = int(X_breast.shape[0]*.75)\n",
    "\n",
    "K_breast = util.get_kernels(X_breast, poly=True, feat_kernel=True, gauss=True,\n",
    "                            max_poly_deg=2, max_gauss_width=4)\n",
    "K_breast = util.preprocess_kernel(K_breast)\n",
    "\n",
    "K, K_test = K_breast[:,:N,:N],K_breast[:,N:,:N]\n",
    "y, y_test = y_breast[:N], y_breast[N:]"
   ]
  },
  {
   "cell_type": "code",
   "execution_count": 5,
   "metadata": {},
   "outputs": [
    {
     "data": {
      "text/plain": [
       "(310, 426, 426)"
      ]
     },
     "execution_count": 5,
     "metadata": {},
     "output_type": "execute_result"
    }
   ],
   "source": [
    "K.shape"
   ]
  },
  {
   "cell_type": "markdown",
   "metadata": {},
   "source": [
    "# BEMKL\n",
    "\n",
    "- Sparsity: #chosen kernels\n",
    "- Running time: \n",
    "- Accuracy:"
   ]
  },
  {
   "cell_type": "markdown",
   "metadata": {},
   "source": [
    "# Non-Sparse"
   ]
  },
  {
   "cell_type": "code",
   "execution_count": 6,
   "metadata": {},
   "outputs": [
    {
     "name": "stdout",
     "output_type": "stream",
     "text": [
      "Accuracy:\n"
     ]
    },
    {
     "data": {
      "text/plain": [
       "0.986013986013986"
      ]
     },
     "execution_count": 6,
     "metadata": {},
     "output_type": "execute_result"
    }
   ],
   "source": [
    "import bemkl_binary\n",
    "\n",
    "clf = bemkl_binary.BEMKL(sparse=False)\n",
    "\n",
    "clf.bemkl_binary(K,y)\n",
    "\n",
    "pred, prob = clf.predict(K_test)\n",
    "\n",
    "print 'Accuracy:'\n",
    "(pred==y_test).sum()*1./y_test.shape[0]"
   ]
  },
  {
   "cell_type": "code",
   "execution_count": 7,
   "metadata": {},
   "outputs": [],
   "source": [
    "e_nsparse = clf.mu_b_e[1:]"
   ]
  },
  {
   "cell_type": "markdown",
   "metadata": {},
   "source": [
    "## Sparse"
   ]
  },
  {
   "cell_type": "code",
   "execution_count": 8,
   "metadata": {},
   "outputs": [
    {
     "name": "stdout",
     "output_type": "stream",
     "text": [
      "Accuracy:\n"
     ]
    },
    {
     "data": {
      "text/plain": [
       "0.972027972027972"
      ]
     },
     "execution_count": 8,
     "metadata": {},
     "output_type": "execute_result"
    }
   ],
   "source": [
    "import bemkl_binary\n",
    "\n",
    "clf = bemkl_binary.BEMKL(sparse=True)\n",
    "\n",
    "clf.bemkl_binary(K,y)\n",
    "\n",
    "pred, prob = clf.predict(K_test)\n",
    "\n",
    "print 'Accuracy:'\n",
    "(pred==y_test).sum()*1./y_test.shape[0]"
   ]
  },
  {
   "cell_type": "code",
   "execution_count": 9,
   "metadata": {},
   "outputs": [],
   "source": [
    "e_sparse = clf.mu_b_e[1:]"
   ]
  },
  {
   "cell_type": "code",
   "execution_count": null,
   "metadata": {},
   "outputs": [],
   "source": []
  }
 ],
 "metadata": {
  "kernelspec": {
   "display_name": "Python 2",
   "language": "python",
   "name": "python2"
  },
  "language_info": {
   "codemirror_mode": {
    "name": "ipython",
    "version": 2
   },
   "file_extension": ".py",
   "mimetype": "text/x-python",
   "name": "python",
   "nbconvert_exporter": "python",
   "pygments_lexer": "ipython2",
   "version": "2.7.12"
  }
 },
 "nbformat": 4,
 "nbformat_minor": 2
}
